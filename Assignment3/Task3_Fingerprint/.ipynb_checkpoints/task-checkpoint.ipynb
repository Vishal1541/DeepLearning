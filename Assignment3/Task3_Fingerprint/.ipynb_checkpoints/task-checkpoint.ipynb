{
 "cells": [
  {
   "cell_type": "code",
   "execution_count": 1,
   "metadata": {},
   "outputs": [
    {
     "name": "stderr",
     "output_type": "stream",
     "text": [
      "Using TensorFlow backend.\n"
     ]
    }
   ],
   "source": [
    "import numpy as np\n",
    "import os\n",
    "import cv2\n",
    "import matplotlib.pyplot as plt\n",
    "from keras.utils import to_categorical\n",
    "from keras.models import Sequential\n",
    "from keras.layers import Dense, Conv2D, Flatten, BatchNormalization, MaxPooling2D\n",
    "from keras import metrics\n",
    "from keras.models import model_from_json\n",
    "from keras.callbacks import Callback\n",
    "from sklearn.metrics import confusion_matrix, f1_score, precision_score, recall_score, accuracy_score"
   ]
  },
  {
   "cell_type": "code",
   "execution_count": 2,
   "metadata": {},
   "outputs": [
    {
     "name": "stdout",
     "output_type": "stream",
     "text": [
      "(20, 480, 320, 3)\n"
     ]
    }
   ],
   "source": [
    "data_path = '../data/Q3/Core_Point/Data'\n",
    "\n",
    "lst = os.listdir(data_path)\n",
    "\n",
    "lst.sort()\n",
    "\n",
    "# for i in range(len(lst)):\n",
    "#     print(lst[i])\n",
    "\n",
    "training_data = []\n",
    "testing_data = []\n",
    "pos = 0\n",
    "\n",
    "for i in range(30):\n",
    "    x = cv2.imread(data_path+'/'+lst[i])\n",
    "    if pos < 20:\n",
    "        training_data.append(x)\n",
    "    else:\n",
    "        testing_data.append(x)\n",
    "    \n",
    "    pos +=1\n",
    "    \n",
    "\n",
    "# plt.imshow(x)\n",
    "training_data = np.array(training_data)\n",
    "testing_data = np.array(testing_data)\n",
    "\n",
    "np.save('train.npy',training_data)\n",
    "np.save('test.npy',testing_data)\n",
    "print(training_data.shape)\n",
    "# print(testing_data.shape)"
   ]
  },
  {
   "cell_type": "code",
   "execution_count": 18,
   "metadata": {},
   "outputs": [
    {
     "name": "stdout",
     "output_type": "stream",
     "text": [
      "(20, 2)\n",
      "(1, 2)\n"
     ]
    }
   ],
   "source": [
    "gt_path = '../data/Q3/Core_Point/Ground_truth'\n",
    "lst = os.listdir(gt_path)\n",
    "lst.sort()\n",
    "\n",
    "# for i in range(len(lst)):\n",
    "#     print(lst[i])\n",
    "\n",
    "ground_truth = []\n",
    "pos = 0\n",
    "\n",
    "\n",
    "for i in range(30):\n",
    "    x,y = open(gt_path+'/'+lst[i],\"r\").readline().split()\n",
    "    line = []\n",
    "    line.append(int(x))\n",
    "    line.append(int(y))\n",
    "    if pos < 20:\n",
    "        ground_truth.append(line)\n",
    "    \n",
    "    pos +=1\n",
    "    \n",
    "ground_truth = np.array(ground_truth)    \n",
    "print(ground_truth.shape)"
   ]
  },
  {
   "cell_type": "code",
   "execution_count": 11,
   "metadata": {},
   "outputs": [
    {
     "data": {
      "text/plain": [
       "<keras.callbacks.History at 0x7f6f2b77ee48>"
      ]
     },
     "execution_count": 11,
     "metadata": {},
     "output_type": "execute_result"
    }
   ],
   "source": [
    "model = Sequential()\n",
    "model.add(Flatten())\n",
    "model.add(Dense(100, input_shape=(480,320,3), activation='relu'))\n",
    "model.add(Dense(20, activation='relu'))\n",
    "model.add(Dense(2, activation='linear'))\n",
    "model.compile(loss='mse', optimizer='adam')\n",
    "model.fit(training_data, ground_truth, epochs=10, verbose=0)"
   ]
  },
  {
   "cell_type": "code",
   "execution_count": 9,
   "metadata": {},
   "outputs": [
    {
     "name": "stdout",
     "output_type": "stream",
     "text": [
      "_________________________________________________________________\n",
      "Layer (type)                 Output Shape              Param #   \n",
      "=================================================================\n",
      "flatten_3 (Flatten)          (None, 460800)            0         \n",
      "_________________________________________________________________\n",
      "dense_7 (Dense)              (None, 100)               46080100  \n",
      "_________________________________________________________________\n",
      "dense_8 (Dense)              (None, 2)                 202       \n",
      "=================================================================\n",
      "Total params: 46,080,302\n",
      "Trainable params: 46,080,302\n",
      "Non-trainable params: 0\n",
      "_________________________________________________________________\n"
     ]
    }
   ],
   "source": [
    "model.summary()"
   ]
  },
  {
   "cell_type": "code",
   "execution_count": 12,
   "metadata": {},
   "outputs": [
    {
     "name": "stdout",
     "output_type": "stream",
     "text": [
      "(10, 480, 320, 3)\n"
     ]
    }
   ],
   "source": [
    "print(testing_data.shape)"
   ]
  },
  {
   "cell_type": "code",
   "execution_count": null,
   "metadata": {},
   "outputs": [],
   "source": []
  }
 ],
 "metadata": {
  "kernelspec": {
   "display_name": "Python 3",
   "language": "python",
   "name": "python3"
  },
  "language_info": {
   "codemirror_mode": {
    "name": "ipython",
    "version": 3
   },
   "file_extension": ".py",
   "mimetype": "text/x-python",
   "name": "python",
   "nbconvert_exporter": "python",
   "pygments_lexer": "ipython3",
   "version": "3.6.8"
  }
 },
 "nbformat": 4,
 "nbformat_minor": 2
}
