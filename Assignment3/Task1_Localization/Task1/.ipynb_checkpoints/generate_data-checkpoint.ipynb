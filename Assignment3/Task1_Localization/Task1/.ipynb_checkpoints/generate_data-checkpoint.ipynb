{
 "cells": [
  {
   "cell_type": "code",
   "execution_count": 11,
   "metadata": {},
   "outputs": [],
   "source": [
    "import numpy as np\n",
    "import os\n",
    "import cv2"
   ]
  },
  {
   "cell_type": "code",
   "execution_count": 12,
   "metadata": {},
   "outputs": [],
   "source": [
    "# Class 0 = knuckle\n",
    "# Class 1 = Palm\n",
    "# Class 2 = veins\n",
    "output_classes = 3\n",
    "output_regression = 4\n",
    "folder = \"../../data/Q1\"\n",
    "class_folders = [\"Knuckle\", \"Palm\", \"Vein\"]\n",
    "classes = [\"knuckle\", \"Palm\", \"veins\"]\n",
    "output_folder = \"./input\"\n",
    "GT = \"groundtruth.txt\"\n",
    "training_samples = 0.6\n",
    "testing_samples = 1 - training_samples\n",
    "R, C = 480, 640"
   ]
  },
  {
   "cell_type": "code",
   "execution_count": 13,
   "metadata": {},
   "outputs": [],
   "source": [
    "def getData(lower, upper):\n",
    "    X, y_classification, y_regression = [], [], []\n",
    "    for i in range(output_classes):\n",
    "        print (\"Class \" + str(i) + \"->\"),\n",
    "        lines = open(folder + \"/\" + class_folders[i] + \"/\" + GT, \"r\").readlines()\n",
    "        sz = len(lines)\n",
    "        L = int(lower * sz)\n",
    "        U = int(upper * sz)\n",
    "        for j in range(L, U):\n",
    "            pic_path, x1, y1, x2, y2, cl = lines[j].split(\",\")\n",
    "            cl = classes.index(cl[:-1]) # for removing '\\n' from the end of the word\n",
    "            x1, y1, x2, y2 = int(x1), int(y1), int(x2), int(y2)\n",
    "            img = cv2.imread(folder + \"/\" + class_folders[i] + \"/\" + pic_path)\n",
    "            if(j % 300 == 0): print(\" \" + str(j)),\n",
    "            if(img is not None):\n",
    "                r, c = img.shape[:2]\n",
    "    #             print (\"Original Shape: \"),\n",
    "    #             print(img.shape),\n",
    "                img = cv2.copyMakeBorder(img, top=0, left=0, right=C - c, bottom=R - r, borderType= cv2.BORDER_CONSTANT)\n",
    "    #             print (\" After padding Shape: \"),\n",
    "    #             print(img.shape)\n",
    "                X.append(img)\n",
    "                y_classification.append([0] * output_classes)\n",
    "                y_regression.append([x1, y1, x2, y2])\n",
    "                y_classification[i * (U - L) + j - L][cl] = 1\n",
    "    #         rect = cv2.rectangle(img, (x1, y1), (x2, y2), (0, 255, 0), 2)\n",
    "    #         cv2.imshow(\"image\", rect)\n",
    "    #         cv2.waitKey(0)\n",
    "    #         cv2.destroyAllWindows()\n",
    "        print(\"\\n\")\n",
    "    X = np.array(X)\n",
    "    y_classification = np.array(y_classification)\n",
    "    y_regression = np.array(y_regression)\n",
    "    return X, y_classification, y_regression\n",
    "            \n",
    "\n"
   ]
  },
  {
   "cell_type": "code",
   "execution_count": 14,
   "metadata": {},
   "outputs": [
    {
     "name": "stdout",
     "output_type": "stream",
     "text": [
      "Class 0->  0  300  600  900  1200  1500  1800  2100  2400  2700  3000 \n",
      "\n",
      "Class 1->  0  300  600  900  1200  1500  1800  2100  2400  2700  3000 \n",
      "\n",
      "Class 2->  0  300  600  900  1200  1500  1800  2100 \n",
      "\n"
     ]
    },
    {
     "ename": "MemoryError",
     "evalue": "",
     "output_type": "error",
     "traceback": [
      "\u001b[0;31m---------------------------------------------------------------------------\u001b[0m",
      "\u001b[0;31mMemoryError\u001b[0m                               Traceback (most recent call last)",
      "\u001b[0;32m<ipython-input-14-33823b83b857>\u001b[0m in \u001b[0;36m<module>\u001b[0;34m()\u001b[0m\n\u001b[0;32m----> 1\u001b[0;31m \u001b[0mX_train\u001b[0m\u001b[0;34m,\u001b[0m \u001b[0my1_train\u001b[0m\u001b[0;34m,\u001b[0m \u001b[0my2_train\u001b[0m \u001b[0;34m=\u001b[0m \u001b[0mgetData\u001b[0m\u001b[0;34m(\u001b[0m\u001b[0;36m0\u001b[0m\u001b[0;34m,\u001b[0m \u001b[0mtraining_samples\u001b[0m\u001b[0;34m)\u001b[0m\u001b[0;34m\u001b[0m\u001b[0m\n\u001b[0m",
      "\u001b[0;32m<ipython-input-13-11590f147e25>\u001b[0m in \u001b[0;36mgetData\u001b[0;34m(lower, upper)\u001b[0m\n\u001b[1;32m     29\u001b[0m     \u001b[0;31m#         cv2.destroyAllWindows()\u001b[0m\u001b[0;34m\u001b[0m\u001b[0;34m\u001b[0m\u001b[0m\n\u001b[1;32m     30\u001b[0m         \u001b[0;32mprint\u001b[0m\u001b[0;34m(\u001b[0m\u001b[0;34m\"\\n\"\u001b[0m\u001b[0;34m)\u001b[0m\u001b[0;34m\u001b[0m\u001b[0m\n\u001b[0;32m---> 31\u001b[0;31m     \u001b[0mX\u001b[0m \u001b[0;34m=\u001b[0m \u001b[0mnp\u001b[0m\u001b[0;34m.\u001b[0m\u001b[0marray\u001b[0m\u001b[0;34m(\u001b[0m\u001b[0mX\u001b[0m\u001b[0;34m)\u001b[0m\u001b[0;34m\u001b[0m\u001b[0m\n\u001b[0m\u001b[1;32m     32\u001b[0m     \u001b[0my_classification\u001b[0m \u001b[0;34m=\u001b[0m \u001b[0mnp\u001b[0m\u001b[0;34m.\u001b[0m\u001b[0marray\u001b[0m\u001b[0;34m(\u001b[0m\u001b[0my_classification\u001b[0m\u001b[0;34m)\u001b[0m\u001b[0;34m\u001b[0m\u001b[0m\n\u001b[1;32m     33\u001b[0m     \u001b[0my_regression\u001b[0m \u001b[0;34m=\u001b[0m \u001b[0mnp\u001b[0m\u001b[0;34m.\u001b[0m\u001b[0marray\u001b[0m\u001b[0;34m(\u001b[0m\u001b[0my_regression\u001b[0m\u001b[0;34m)\u001b[0m\u001b[0;34m\u001b[0m\u001b[0m\n",
      "\u001b[0;31mMemoryError\u001b[0m: "
     ]
    }
   ],
   "source": [
    "X_train, y1_train, y2_train = getData(0, training_samples)"
   ]
  },
  {
   "cell_type": "code",
   "execution_count": null,
   "metadata": {},
   "outputs": [],
   "source": [
    "X_test, y1_test, y2_test = getData(training_samples, 1)\n"
   ]
  },
  {
   "cell_type": "code",
   "execution_count": null,
   "metadata": {},
   "outputs": [],
   "source": [
    "if not os.path.exists(output_folder):\n",
    "    os.makedirs(output_folder)\n",
    "np.save(output_folder + \"/X_train.npy\", X_train)\n",
    "np.save(output_folder + \"/y1_train.npy\", y1_train)\n",
    "np.save(output_folder + \"/y2_train.npy\", y2_train)\n",
    "np.save(output_folder + \"/X_test.npy\", X_test)\n",
    "np.save(output_folder + \"/y1_test.npy\", y1_test)\n",
    "np.save(output_folder + \"/y2_test.npy\", y2_test)"
   ]
  }
 ],
 "metadata": {
  "kernelspec": {
   "display_name": "Python 3",
   "language": "python",
   "name": "python3"
  },
  "language_info": {
   "codemirror_mode": {
    "name": "ipython",
    "version": 2
   },
   "file_extension": ".py",
   "mimetype": "text/x-python",
   "name": "python",
   "nbconvert_exporter": "python",
   "pygments_lexer": "ipython2",
   "version": "2.7.12"
  }
 },
 "nbformat": 4,
 "nbformat_minor": 2
}
