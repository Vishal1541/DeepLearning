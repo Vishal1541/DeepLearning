{
 "cells": [
  {
   "cell_type": "code",
   "execution_count": 1,
   "metadata": {},
   "outputs": [
    {
     "name": "stderr",
     "output_type": "stream",
     "text": [
      "Using TensorFlow backend.\n"
     ]
    }
   ],
   "source": [
    "import numpy as np\n",
    "import os\n",
    "import matplotlib.pyplot as plt\n",
    "from keras.utils import to_categorical\n",
    "from keras.models import Sequential, Model\n",
    "from keras.layers import Dense, Conv2D, Flatten, BatchNormalization, MaxPooling2D, Dropout, Input\n",
    "from keras import metrics\n",
    "from keras.models import model_from_json\n",
    "from keras.callbacks import Callback\n",
    "from keras import optimizers\n",
    "from sklearn.metrics import confusion_matrix, f1_score, precision_score, recall_score, accuracy_score"
   ]
  },
  {
   "cell_type": "code",
   "execution_count": 2,
   "metadata": {},
   "outputs": [
    {
     "name": "stdout",
     "output_type": "stream",
     "text": [
      "((1083, 480, 640, 3), (541, 480, 640, 3), (1083, 3), (541, 3))\n"
     ]
    }
   ],
   "source": [
    "ip_folder = \"./input_x\"\n",
    "\n",
    "X_train = np.load(ip_folder + \"/X_train.npy\")\n",
    "y1_train = np.load(ip_folder + \"/y1_train.npy\")\n",
    "y2_train = np.load(ip_folder + \"/y2_train.npy\")\n",
    "\n",
    "X_test = np.load(ip_folder + \"/X_test.npy\")\n",
    "y1_test = np.load(ip_folder + \"/y1_test.npy\")\n",
    "y2_test = np.load(ip_folder + \"/y2_test.npy\")\n",
    "\n",
    "\n",
    "print (X_train.shape, X_test.shape, y1_train.shape, y1_test.shape)"
   ]
  },
  {
   "cell_type": "code",
   "execution_count": 4,
   "metadata": {},
   "outputs": [],
   "source": [
    "def getBranch(inp, out_neuron, out_act, name):\n",
    "    x = Dense(512, activation=\"relu\")(inp)\n",
    "    x = Dropout(0.4)(x)\n",
    "    x = BatchNormalization()(x)\n",
    "    x = Dense(out_neuron, activation=out_act, name=name)(x)\n",
    "    return x"
   ]
  },
  {
   "cell_type": "code",
   "execution_count": 5,
   "metadata": {},
   "outputs": [
    {
     "name": "stdout",
     "output_type": "stream",
     "text": [
      "WARNING:tensorflow:From /usr/local/lib/python2.7/dist-packages/tensorflow/python/framework/op_def_library.py:263: colocate_with (from tensorflow.python.framework.ops) is deprecated and will be removed in a future version.\n",
      "Instructions for updating:\n",
      "Colocations handled automatically by placer.\n",
      "WARNING:tensorflow:From /usr/local/lib/python2.7/dist-packages/keras/backend/tensorflow_backend.py:3445: calling dropout (from tensorflow.python.ops.nn_ops) with keep_prob is deprecated and will be removed in a future version.\n",
      "Instructions for updating:\n",
      "Please use `rate` instead of `keep_prob`. Rate should be set to `rate = 1 - keep_prob`.\n"
     ]
    }
   ],
   "source": [
    "inp = Input(shape=(480,640,3))\n",
    "cnn = Conv2D(32, kernel_size=3, strides=1, activation=\"relu\")(inp)\n",
    "cnn = BatchNormalization()(cnn)\n",
    "cnn = MaxPooling2D(pool_size=2, strides=1)(cnn)\n",
    "cnn = Conv2D(8, kernel_size=1, strides=1, activation=\"relu\")(cnn)\n",
    "cnn = BatchNormalization()(cnn)\n",
    "cnn = Dropout(rate=0.4)(cnn)\n",
    "cnn = Flatten()(cnn)"
   ]
  },
  {
   "cell_type": "code",
   "execution_count": 6,
   "metadata": {},
   "outputs": [
    {
     "data": {
      "text/plain": [
       "[(None, 3), (None, 4)]"
      ]
     },
     "execution_count": 6,
     "metadata": {},
     "output_type": "execute_result"
    }
   ],
   "source": [
    "classification_head = getBranch(cnn, 3, \"softmax\", \"class_head\")\n",
    "regression_head = getBranch(cnn, 4, \"softmax\", \"reg_head\")\n",
    "model = Model(inputs=inp, outputs=[classification_head, regression_head])\n",
    "model.output_shape"
   ]
  },
  {
   "cell_type": "code",
   "execution_count": 7,
   "metadata": {},
   "outputs": [],
   "source": [
    "model.compile(optimizer=\"adam\",\n",
    "              loss={\"class_head\": \"categorical_crossentropy\", \"reg_head\": \"mean_squared_error\"},\n",
    "              metrics=['accuracy'])"
   ]
  },
  {
   "cell_type": "code",
   "execution_count": null,
   "metadata": {},
   "outputs": [
    {
     "name": "stdout",
     "output_type": "stream",
     "text": [
      "WARNING:tensorflow:From /usr/local/lib/python2.7/dist-packages/tensorflow/python/ops/math_ops.py:3066: to_int32 (from tensorflow.python.ops.math_ops) is deprecated and will be removed in a future version.\n",
      "Instructions for updating:\n",
      "Use tf.cast instead.\n",
      "Train on 1083 samples, validate on 541 samples\n",
      "Epoch 1/2\n"
     ]
    }
   ],
   "source": [
    "history = model.fit(X_train, [y1_train, y2_train],\n",
    "                    validation_data=(X_test, [y1_test, y2_test]),\n",
    "                    epochs=2, batch_size=10)"
   ]
  },
  {
   "cell_type": "code",
   "execution_count": null,
   "metadata": {},
   "outputs": [],
   "source": [
    "# Final evaluation of the model\n",
    "y1_pred, y2_pred = model.predict(X_test)\n"
   ]
  },
  {
   "cell_type": "code",
   "execution_count": null,
   "metadata": {},
   "outputs": [],
   "source": [
    "y1_test = y1_test >= 0.5\n",
    "y2_test = y2_test >= 0.5\n",
    "\n",
    "y1_pred = y1_pred >= 0.5\n",
    "y2_pred = y2_pred >= 0.5\n",
    "\n",
    "cm_y1 = confusion_matrix(y1_test.argmax(axis=1), y1_pred.argmax(axis=1))\n",
    "cm_y2 = confusion_matrix(y2_test.argmax(axis=1), y2_pred.argmax(axis=1))\n",
    "\n",
    "print(cm_y1)\n",
    "print(cm_y2)"
   ]
  }
 ],
 "metadata": {
  "kernelspec": {
   "display_name": "Python 3",
   "language": "python",
   "name": "python3"
  },
  "language_info": {
   "codemirror_mode": {
    "name": "ipython",
    "version": 2
   },
   "file_extension": ".py",
   "mimetype": "text/x-python",
   "name": "python",
   "nbconvert_exporter": "python",
   "pygments_lexer": "ipython2",
   "version": "2.7.12"
  }
 },
 "nbformat": 4,
 "nbformat_minor": 2
}
