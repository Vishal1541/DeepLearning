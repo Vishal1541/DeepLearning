{
 "cells": [
  {
   "cell_type": "code",
   "execution_count": 19,
   "metadata": {},
   "outputs": [],
   "source": [
    "from moviepy.video.io.ffmpeg_tools import ffmpeg_extract_subclip\n",
    "import os\n"
   ]
  },
  {
   "cell_type": "code",
   "execution_count": 20,
   "metadata": {},
   "outputs": [],
   "source": [
    "# folder where each ball video and frames are saved\n",
    "folder = \"./frames\"\n",
    "VIDEO_PATH = \"../videos/a.mp4\""
   ]
  },
  {
   "cell_type": "code",
   "execution_count": 21,
   "metadata": {},
   "outputs": [
    {
     "name": "stdout",
     "output_type": "stream",
     "text": [
      "('Total balls folder: ', 6)\n",
      "['1 55 1 59', '2 45 2 55']\n"
     ]
    }
   ],
   "source": [
    "ballCounts = 0\n",
    "for filename in os.listdir(folder):\n",
    "    ballCounts += 1\n",
    "ballCounts /= 2\n",
    "print(\"Total balls folder: \",ballCounts)\n",
    "ballCounts += 1\n",
    "\n",
    "trimVideo = open(\"trim.txt\", \"r\")\n",
    "lines = trimVideo.read().split('\\n')\n",
    "# ignoring the last \\n line (if any)\n",
    "L = len(lines)\n",
    "if(len(lines[L - 1]) == 0):\n",
    "    lines.remove(\"\")\n",
    "    L -= 1\n",
    "print (lines)\n",
    "\n"
   ]
  },
  {
   "cell_type": "code",
   "execution_count": 22,
   "metadata": {},
   "outputs": [],
   "source": [
    "def trim_and_save_video(line, ballCounts):\n",
    "    m1, s1, m2, s2 = map(int, line.split(\" \"))\n",
    "#     Converting Min:Sec to Sec\n",
    "#     taking margin of 0.75 sec before starting time and after ending time\n",
    "    start_time = m1 * 60 + s1 - 0.75\n",
    "    end_time = m2 * 60 + s2 + 0.75\n",
    "    os.makedirs(folder + \"/\" + ballCounts)\n",
    "    ffmpeg_extract_subclip(VIDEO_PATH, start_time, end_time, targetname=folder + \"/\" + ballCounts + \".mp4\")\n",
    "    "
   ]
  },
  {
   "cell_type": "code",
   "execution_count": 23,
   "metadata": {},
   "outputs": [
    {
     "name": "stdout",
     "output_type": "stream",
     "text": [
      "Moviepy - Running:\n",
      ">>> \"+ \" \".join(cmd)\n",
      "Moviepy - Command successful\n",
      "('Trimmed ', 0)\n",
      "Moviepy - Running:\n",
      ">>> \"+ \" \".join(cmd)\n",
      "Moviepy - Command successful\n",
      "('Trimmed ', 1)\n"
     ]
    }
   ],
   "source": [
    "for i in range(L):\n",
    "    trim_and_save_video(lines[i], str(ballCounts))\n",
    "    ballCounts += 1\n",
    "    print(\"Trimmed \", i)"
   ]
  },
  {
   "cell_type": "code",
   "execution_count": null,
   "metadata": {},
   "outputs": [],
   "source": []
  }
 ],
 "metadata": {
  "kernelspec": {
   "display_name": "Python 3",
   "language": "python",
   "name": "python3"
  },
  "language_info": {
   "codemirror_mode": {
    "name": "ipython",
    "version": 2
   },
   "file_extension": ".py",
   "mimetype": "text/x-python",
   "name": "python",
   "nbconvert_exporter": "python",
   "pygments_lexer": "ipython2",
   "version": "2.7.12"
  }
 },
 "nbformat": 4,
 "nbformat_minor": 2
}
