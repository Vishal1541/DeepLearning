{
 "cells": [
  {
   "cell_type": "code",
   "execution_count": 1,
   "metadata": {},
   "outputs": [],
   "source": [
    "import cv2"
   ]
  },
  {
   "cell_type": "code",
   "execution_count": 2,
   "metadata": {},
   "outputs": [],
   "source": [
    "folder = \"./frames\"\n",
    "FROM_BALL = 1\n",
    "TO_BALL = 3\n",
    "FRAME_RATE = 0.3"
   ]
  },
  {
   "cell_type": "code",
   "execution_count": 3,
   "metadata": {},
   "outputs": [],
   "source": [
    "def getFrameUtil(sec, vidcap, frame_no, ball):\n",
    "    vidcap.set(cv2.CAP_PROP_POS_MSEC,sec*1000)\n",
    "    hasFrames,image = vidcap.read()\n",
    "    if hasFrames:\n",
    "        cv2.imwrite(folder + \"/\" + str(ball) + \"/\" + str(frame_no) + \".jpg\", image)     # save frame as JPG file\n",
    "    return hasFrames"
   ]
  },
  {
   "cell_type": "code",
   "execution_count": 4,
   "metadata": {},
   "outputs": [],
   "source": [
    "def getFrame(vidcap, ball):\n",
    "    success = True\n",
    "    frame_no, sec = 0, -FRAME_RATE\n",
    "    while success:\n",
    "        sec = sec + FRAME_RATE\n",
    "        sec = round(sec, 2)\n",
    "        success = getFrameUtil(sec, vidcap, frame_no, ball)\n",
    "        frame_no += 1\n",
    "        print sec,"
   ]
  },
  {
   "cell_type": "code",
   "execution_count": 5,
   "metadata": {},
   "outputs": [
    {
     "name": "stdout",
     "output_type": "stream",
     "text": [
      "0.0 0.3 0.6 0.9 1.2 1.5 1.8 2.1 2.4 2.7 3.0 3.3 3.6 3.9 4.2 4.5 4.8 5.1 5.4 5.7 6.0 6.3 ('Ball ', 1, ' done')\n",
      "0.0 0.3 0.6 0.9 1.2 1.5 1.8 2.1 2.4 2.7 3.0 3.3 3.6 3.9 4.2 4.5 4.8 5.1 5.4 5.7 6.0 6.3 ('Ball ', 2, ' done')\n",
      "0.0 0.3 0.6 0.9 1.2 1.5 1.8 2.1 2.4 2.7 3.0 3.3 3.6 3.9 4.2 ('Ball ', 3, ' done')\n"
     ]
    }
   ],
   "source": [
    "for ball in range(FROM_BALL, TO_BALL + 1):\n",
    "    vidcap = cv2.VideoCapture(folder + \"/\" + str(ball) + \".mp4\")\n",
    "    getFrame(vidcap, ball)\n",
    "    print(\"Ball \",ball,\" done\")"
   ]
  },
  {
   "cell_type": "code",
   "execution_count": null,
   "metadata": {},
   "outputs": [],
   "source": []
  }
 ],
 "metadata": {
  "kernelspec": {
   "display_name": "Python 3",
   "language": "python",
   "name": "python3"
  },
  "language_info": {
   "codemirror_mode": {
    "name": "ipython",
    "version": 2
   },
   "file_extension": ".py",
   "mimetype": "text/x-python",
   "name": "python",
   "nbconvert_exporter": "python",
   "pygments_lexer": "ipython2",
   "version": "2.7.12"
  }
 },
 "nbformat": 4,
 "nbformat_minor": 2
}
