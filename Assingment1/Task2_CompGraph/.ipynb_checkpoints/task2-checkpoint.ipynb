{
 "cells": [
  {
   "cell_type": "code",
   "execution_count": 37,
   "metadata": {},
   "outputs": [],
   "source": [
    "import numpy as np\n",
    "import tensorflow as tf\n",
    "import matplotlib.pyplot as plt\n",
    "import time"
   ]
  },
  {
   "cell_type": "markdown",
   "metadata": {},
   "source": [
    "Initializing the constants and typecasting to float32 precision."
   ]
  },
  {
   "cell_type": "code",
   "execution_count": 38,
   "metadata": {},
   "outputs": [],
   "source": [
    "ip_folder = \"./q2_input\"\n",
    "op_folder = \"./q2_output\"\n",
    "\n",
    "tending_zero = np.float32(0.000000001)\n",
    "G = np.float32(6.67 * 10**(5))\n",
    "threshold = np.float32(0.1)\n",
    "time_step = np.float32(0.0001)\n",
    "INF = np.float32(100000000000000000.0)"
   ]
  },
  {
   "cell_type": "markdown",
   "metadata": {},
   "source": [
    "This is the tensorflow computational graph."
   ]
  },
  {
   "cell_type": "code",
   "execution_count": 42,
   "metadata": {},
   "outputs": [],
   "source": [
    "masses = np.load(ip_folder + \"/masses.npy\")\n",
    "positions = np.load(ip_folder + \"/positions.npy\")\n",
    "velocity = np.load(ip_folder + \"/velocities.npy\")\n",
    "# N = total number of particles\n",
    "N = D.size / 2\n",
    "\n",
    "# Typecasting every floating points to float32 precision\n",
    "masses = masses.astype(np.float32)\n",
    "positions = positions.astype(np.float32)\n",
    "veclocity = velocity.astype(np.float32)\n",
    "\n",
    "'''Custom Input'''\n",
    "# D = np.array([[-2,0],\n",
    "#               [0,2],\n",
    "#               [2,0]], dtype=np.float32)\n",
    "\n",
    "# # M = np.array([[1.0, 2.0, 3.0]]).transpose()\n",
    "# M = tf.transpose(tf.constant([[4, 4, 4]], dtype=tf.float32))\n",
    "# V = np.array([[0,0],\n",
    "#               [0,0],\n",
    "#               [0,0]], dtype=np.float32)\n",
    "\n",
    "# Initial X and Y coordinates of each particles.\n",
    "# Shape = (N, 1)\n",
    "initX = np.reshape(D[:,0], [-1,1])\n",
    "initY = np.reshape(D[:,1], [-1,1])\n",
    "\n",
    "# Initial velocity along X and Y directions for each particles\n",
    "# Shape = (3,1)\n",
    "initVx = np.reshape(V[:,0], [-1,1])\n",
    "initVy = np.reshape(V[:,1], [-1,1])\n",
    "\n",
    "# Shape (N, 1)\n",
    "posX = tf.placeholder(dtype=tf.float32)\n",
    "posY = tf.placeholder(dtype=tf.float32)\n",
    "\n",
    "# Shape (N, 1)\n",
    "velX = tf.placeholder(dtype=tf.float32)\n",
    "velY = tf.placeholder(dtype=tf.float32)\n",
    "\n",
    "# posX, posY = initX, initY\n",
    "# velX, velY = initVx, initVy\n",
    "\n",
    "# distance vector between each pair of particles\n",
    "# Shape = (N, N)\n",
    "delX = tf.math.add(-posX, tf.transpose(posX))\n",
    "delY = tf.math.add(-posY, tf.transpose(posY))\n",
    "\n",
    "# Masses multiplied between each pair of particles\n",
    "# Shape = (N, N)\n",
    "mimj = tf.math.multiply(M, tf.transpose(M))\n",
    "\n",
    "# Force matrix between each pair of particles\n",
    "# Shape (N, N)\n",
    "Fy = -(G * mimj * (-delY)) / (tf.math.pow(tf.math.sqrt(tf.math.pow(delX, 2) + tf.math.pow(delY, 2)), 3) + tending_zero)\n",
    "Fx = -(G * mimj * (-delX)) / (tf.math.pow(tf.math.sqrt(tf.math.pow(delX, 2) + tf.math.pow(delY, 2)), 3) + tending_zero)\n",
    "\n",
    "# Acceleration for each particles\n",
    "# Shape = (N, 1)\n",
    "ax = tf.reshape(tf.reduce_sum(Fx, axis=1), [-1, 1]) / M\n",
    "ay = tf.reshape(tf.reduce_sum(Fy, axis=1), [-1, 1]) / M\n",
    "\n",
    "# s1 = s0 + ut + 1/2 at^2\n",
    "# Shape = (N, 1)\n",
    "new_X = posX + velX * time_step + 0.5 * ax * time_step * time_step\n",
    "new_Y = posY + velY * time_step + 0.5 * ay * time_step * time_step\n",
    "\n",
    "# v1 = v0 + at\n",
    "# Shape = (N, 1)\n",
    "new_velX = velX + ax * time_step\n",
    "new_velY = velY + ay * time_step"
   ]
  },
  {
   "cell_type": "code",
   "execution_count": 40,
   "metadata": {},
   "outputs": [],
   "source": [
    "init_op = tf.global_variables_initializer()\n",
    "# Create a summary to monitor positions\n",
    "tf.summary.scalar(\"posX\", new_X)\n",
    "tf.summary.scalar(\"posY\", new_Y)\n",
    "# Merge all summaries into a single op\n",
    "merged_summary_op = tf.summary.merge_all()"
   ]
  },
  {
   "cell_type": "markdown",
   "metadata": {},
   "source": [
    "Running the session."
   ]
  },
  {
   "cell_type": "code",
   "execution_count": 41,
   "metadata": {},
   "outputs": [
    {
     "name": "stdout",
     "output_type": "stream",
     "text": [
      "Iteration: 1 Min dist: 1e+17\n",
      "Iteration: 2 Min dist: 1e+17\n",
      "Iteration: 3 Min dist: 1e+17\n",
      "Iteration: 4 Min dist: 1e+17\n",
      "Iteration: 5 Min dist: 1e+17\n",
      "Iteration: 6 Min dist: 1e+17\n",
      "Iteration: 7 Min dist: 1e+17\n",
      "Iteration: 8 Min dist: 1e+17\n",
      "Iteration: 9 Min dist: 1e+17\n",
      "Iteration: 10 Min dist: 1e+17\n",
      "Iteration: 11 Min dist: 1e+17\n",
      "Iteration: 12 Min dist: 1e+17\n",
      "Iteration: 13 Min dist: 1e+17\n",
      "Iteration: 14 Min dist: 1e+17\n",
      "Iteration: 15 Min dist: 1e+17\n",
      "Iteration: 16 Min dist: 1e+17\n",
      "Iteration: 17 Min dist: 1e+17\n",
      "Iteration: 18 Min dist: 1e+17\n",
      "Iteration: 19 Min dist: 1e+17\n",
      "Iteration: 20 Min dist: 1e+17\n",
      "Iteration: 21 Min dist: 1e+17\n",
      "Iteration: 22 Min dist: 1e+17\n",
      "Iteration: 23 Min dist: 1e+17\n",
      "Iteration: 24 Min dist: 1e+17\n",
      "Iteration: 25 Min dist: 1e+17\n",
      "Iteration: 26 Min dist: 1e+17\n",
      "Iteration: 27 Min dist: 1e+17\n",
      "Iteration: 28 Min dist: 1e+17\n",
      "Iteration: 29 Min dist: 1e+17\n",
      "Iteration: 30 Min dist: 1e+17\n",
      "Iteration: 31 Min dist: 1e+17\n",
      "Iteration: 32 Min dist: 1e+17\n",
      "Iteration: 33 Min dist: 1e+17\n",
      "Iteration: 34 Min dist: 1e+17\n",
      "Iteration: 35 Min dist: 1e+17\n",
      "Iteration: 36 Min dist: 1e+17\n",
      "Iteration: 37 Min dist: 1e+17\n"
     ]
    },
    {
     "ename": "KeyboardInterrupt",
     "evalue": "",
     "output_type": "error",
     "traceback": [
      "\u001b[0;31m---------------------------------------------------------------------------\u001b[0m",
      "\u001b[0;31mKeyboardInterrupt\u001b[0m                         Traceback (most recent call last)",
      "\u001b[0;32m<ipython-input-41-5da49f444f23>\u001b[0m in \u001b[0;36m<module>\u001b[0;34m()\u001b[0m\n\u001b[1;32m     20\u001b[0m         \u001b[0mdist_all_pairs\u001b[0m \u001b[0;34m=\u001b[0m \u001b[0mtf\u001b[0m\u001b[0;34m.\u001b[0m\u001b[0mmatrix_set_diag\u001b[0m\u001b[0;34m(\u001b[0m\u001b[0mdist_all_pairs\u001b[0m\u001b[0;34m,\u001b[0m \u001b[0mtf\u001b[0m\u001b[0;34m.\u001b[0m\u001b[0mfill\u001b[0m\u001b[0;34m(\u001b[0m\u001b[0mdist_all_pairs\u001b[0m\u001b[0;34m.\u001b[0m\u001b[0mshape\u001b[0m\u001b[0;34m[\u001b[0m\u001b[0;36m0\u001b[0m\u001b[0;34m:\u001b[0m\u001b[0;34m-\u001b[0m\u001b[0;36m1\u001b[0m\u001b[0;34m]\u001b[0m\u001b[0;34m,\u001b[0m \u001b[0mINF\u001b[0m\u001b[0;34m)\u001b[0m\u001b[0;34m)\u001b[0m\u001b[0;34m\u001b[0m\u001b[0m\n\u001b[1;32m     21\u001b[0m         \u001b[0mmin_dist\u001b[0m \u001b[0;34m=\u001b[0m \u001b[0mtf\u001b[0m\u001b[0;34m.\u001b[0m\u001b[0mmath\u001b[0m\u001b[0;34m.\u001b[0m\u001b[0mreduce_min\u001b[0m\u001b[0;34m(\u001b[0m\u001b[0mdist_all_pairs\u001b[0m\u001b[0;34m)\u001b[0m\u001b[0;34m\u001b[0m\u001b[0m\n\u001b[0;32m---> 22\u001b[0;31m         \u001b[0;32mprint\u001b[0m \u001b[0;34m\"Iteration: \"\u001b[0m \u001b[0;34m+\u001b[0m \u001b[0;34m`\u001b[0m\u001b[0mi\u001b[0m\u001b[0;34m`\u001b[0m \u001b[0;34m+\u001b[0m \u001b[0;34m\" Min dist: \"\u001b[0m \u001b[0;34m+\u001b[0m \u001b[0;34m`\u001b[0m\u001b[0msess\u001b[0m\u001b[0;34m.\u001b[0m\u001b[0mrun\u001b[0m\u001b[0;34m(\u001b[0m\u001b[0mmin_dist\u001b[0m\u001b[0;34m)\u001b[0m\u001b[0;34m`\u001b[0m\u001b[0;34m\u001b[0m\u001b[0m\n\u001b[0m\u001b[1;32m     23\u001b[0m         \u001b[0;32mif\u001b[0m\u001b[0;34m(\u001b[0m\u001b[0msess\u001b[0m\u001b[0;34m.\u001b[0m\u001b[0mrun\u001b[0m\u001b[0;34m(\u001b[0m\u001b[0mmin_dist\u001b[0m\u001b[0;34m)\u001b[0m \u001b[0;34m<=\u001b[0m \u001b[0mthreshold\u001b[0m\u001b[0;34m)\u001b[0m\u001b[0;34m:\u001b[0m\u001b[0;34m\u001b[0m\u001b[0m\n\u001b[1;32m     24\u001b[0m             \u001b[0;32mbreak\u001b[0m\u001b[0;34m\u001b[0m\u001b[0m\n",
      "\u001b[0;32m/usr/local/lib/python2.7/dist-packages/tensorflow/python/client/session.pyc\u001b[0m in \u001b[0;36mrun\u001b[0;34m(self, fetches, feed_dict, options, run_metadata)\u001b[0m\n\u001b[1;32m    927\u001b[0m     \u001b[0;32mtry\u001b[0m\u001b[0;34m:\u001b[0m\u001b[0;34m\u001b[0m\u001b[0m\n\u001b[1;32m    928\u001b[0m       result = self._run(None, fetches, feed_dict, options_ptr,\n\u001b[0;32m--> 929\u001b[0;31m                          run_metadata_ptr)\n\u001b[0m\u001b[1;32m    930\u001b[0m       \u001b[0;32mif\u001b[0m \u001b[0mrun_metadata\u001b[0m\u001b[0;34m:\u001b[0m\u001b[0;34m\u001b[0m\u001b[0m\n\u001b[1;32m    931\u001b[0m         \u001b[0mproto_data\u001b[0m \u001b[0;34m=\u001b[0m \u001b[0mtf_session\u001b[0m\u001b[0;34m.\u001b[0m\u001b[0mTF_GetBuffer\u001b[0m\u001b[0;34m(\u001b[0m\u001b[0mrun_metadata_ptr\u001b[0m\u001b[0;34m)\u001b[0m\u001b[0;34m\u001b[0m\u001b[0m\n",
      "\u001b[0;32m/usr/local/lib/python2.7/dist-packages/tensorflow/python/client/session.pyc\u001b[0m in \u001b[0;36m_run\u001b[0;34m(self, handle, fetches, feed_dict, options, run_metadata)\u001b[0m\n\u001b[1;32m   1150\u001b[0m     \u001b[0;32mif\u001b[0m \u001b[0mfinal_fetches\u001b[0m \u001b[0;32mor\u001b[0m \u001b[0mfinal_targets\u001b[0m \u001b[0;32mor\u001b[0m \u001b[0;34m(\u001b[0m\u001b[0mhandle\u001b[0m \u001b[0;32mand\u001b[0m \u001b[0mfeed_dict_tensor\u001b[0m\u001b[0;34m)\u001b[0m\u001b[0;34m:\u001b[0m\u001b[0;34m\u001b[0m\u001b[0m\n\u001b[1;32m   1151\u001b[0m       results = self._do_run(handle, final_targets, final_fetches,\n\u001b[0;32m-> 1152\u001b[0;31m                              feed_dict_tensor, options, run_metadata)\n\u001b[0m\u001b[1;32m   1153\u001b[0m     \u001b[0;32melse\u001b[0m\u001b[0;34m:\u001b[0m\u001b[0;34m\u001b[0m\u001b[0m\n\u001b[1;32m   1154\u001b[0m       \u001b[0mresults\u001b[0m \u001b[0;34m=\u001b[0m \u001b[0;34m[\u001b[0m\u001b[0;34m]\u001b[0m\u001b[0;34m\u001b[0m\u001b[0m\n",
      "\u001b[0;32m/usr/local/lib/python2.7/dist-packages/tensorflow/python/client/session.pyc\u001b[0m in \u001b[0;36m_do_run\u001b[0;34m(self, handle, target_list, fetch_list, feed_dict, options, run_metadata)\u001b[0m\n\u001b[1;32m   1326\u001b[0m     \u001b[0;32mif\u001b[0m \u001b[0mhandle\u001b[0m \u001b[0;32mis\u001b[0m \u001b[0mNone\u001b[0m\u001b[0;34m:\u001b[0m\u001b[0;34m\u001b[0m\u001b[0m\n\u001b[1;32m   1327\u001b[0m       return self._do_call(_run_fn, feeds, fetches, targets, options,\n\u001b[0;32m-> 1328\u001b[0;31m                            run_metadata)\n\u001b[0m\u001b[1;32m   1329\u001b[0m     \u001b[0;32melse\u001b[0m\u001b[0;34m:\u001b[0m\u001b[0;34m\u001b[0m\u001b[0m\n\u001b[1;32m   1330\u001b[0m       \u001b[0;32mreturn\u001b[0m \u001b[0mself\u001b[0m\u001b[0;34m.\u001b[0m\u001b[0m_do_call\u001b[0m\u001b[0;34m(\u001b[0m\u001b[0m_prun_fn\u001b[0m\u001b[0;34m,\u001b[0m \u001b[0mhandle\u001b[0m\u001b[0;34m,\u001b[0m \u001b[0mfeeds\u001b[0m\u001b[0;34m,\u001b[0m \u001b[0mfetches\u001b[0m\u001b[0;34m)\u001b[0m\u001b[0;34m\u001b[0m\u001b[0m\n",
      "\u001b[0;32m/usr/local/lib/python2.7/dist-packages/tensorflow/python/client/session.pyc\u001b[0m in \u001b[0;36m_do_call\u001b[0;34m(self, fn, *args)\u001b[0m\n\u001b[1;32m   1332\u001b[0m   \u001b[0;32mdef\u001b[0m \u001b[0m_do_call\u001b[0m\u001b[0;34m(\u001b[0m\u001b[0mself\u001b[0m\u001b[0;34m,\u001b[0m \u001b[0mfn\u001b[0m\u001b[0;34m,\u001b[0m \u001b[0;34m*\u001b[0m\u001b[0margs\u001b[0m\u001b[0;34m)\u001b[0m\u001b[0;34m:\u001b[0m\u001b[0;34m\u001b[0m\u001b[0m\n\u001b[1;32m   1333\u001b[0m     \u001b[0;32mtry\u001b[0m\u001b[0;34m:\u001b[0m\u001b[0;34m\u001b[0m\u001b[0m\n\u001b[0;32m-> 1334\u001b[0;31m       \u001b[0;32mreturn\u001b[0m \u001b[0mfn\u001b[0m\u001b[0;34m(\u001b[0m\u001b[0;34m*\u001b[0m\u001b[0margs\u001b[0m\u001b[0;34m)\u001b[0m\u001b[0;34m\u001b[0m\u001b[0m\n\u001b[0m\u001b[1;32m   1335\u001b[0m     \u001b[0;32mexcept\u001b[0m \u001b[0merrors\u001b[0m\u001b[0;34m.\u001b[0m\u001b[0mOpError\u001b[0m \u001b[0;32mas\u001b[0m \u001b[0me\u001b[0m\u001b[0;34m:\u001b[0m\u001b[0;34m\u001b[0m\u001b[0m\n\u001b[1;32m   1336\u001b[0m       \u001b[0mmessage\u001b[0m \u001b[0;34m=\u001b[0m \u001b[0mcompat\u001b[0m\u001b[0;34m.\u001b[0m\u001b[0mas_text\u001b[0m\u001b[0;34m(\u001b[0m\u001b[0me\u001b[0m\u001b[0;34m.\u001b[0m\u001b[0mmessage\u001b[0m\u001b[0;34m)\u001b[0m\u001b[0;34m\u001b[0m\u001b[0m\n",
      "\u001b[0;32m/usr/local/lib/python2.7/dist-packages/tensorflow/python/client/session.pyc\u001b[0m in \u001b[0;36m_run_fn\u001b[0;34m(feed_dict, fetch_list, target_list, options, run_metadata)\u001b[0m\n\u001b[1;32m   1317\u001b[0m       \u001b[0mself\u001b[0m\u001b[0;34m.\u001b[0m\u001b[0m_extend_graph\u001b[0m\u001b[0;34m(\u001b[0m\u001b[0;34m)\u001b[0m\u001b[0;34m\u001b[0m\u001b[0m\n\u001b[1;32m   1318\u001b[0m       return self._call_tf_sessionrun(\n\u001b[0;32m-> 1319\u001b[0;31m           options, feed_dict, fetch_list, target_list, run_metadata)\n\u001b[0m\u001b[1;32m   1320\u001b[0m \u001b[0;34m\u001b[0m\u001b[0m\n\u001b[1;32m   1321\u001b[0m     \u001b[0;32mdef\u001b[0m \u001b[0m_prun_fn\u001b[0m\u001b[0;34m(\u001b[0m\u001b[0mhandle\u001b[0m\u001b[0;34m,\u001b[0m \u001b[0mfeed_dict\u001b[0m\u001b[0;34m,\u001b[0m \u001b[0mfetch_list\u001b[0m\u001b[0;34m)\u001b[0m\u001b[0;34m:\u001b[0m\u001b[0;34m\u001b[0m\u001b[0m\n",
      "\u001b[0;32m/usr/local/lib/python2.7/dist-packages/tensorflow/python/client/session.pyc\u001b[0m in \u001b[0;36m_call_tf_sessionrun\u001b[0;34m(self, options, feed_dict, fetch_list, target_list, run_metadata)\u001b[0m\n\u001b[1;32m   1405\u001b[0m     return tf_session.TF_SessionRun_wrapper(\n\u001b[1;32m   1406\u001b[0m         \u001b[0mself\u001b[0m\u001b[0;34m.\u001b[0m\u001b[0m_session\u001b[0m\u001b[0;34m,\u001b[0m \u001b[0moptions\u001b[0m\u001b[0;34m,\u001b[0m \u001b[0mfeed_dict\u001b[0m\u001b[0;34m,\u001b[0m \u001b[0mfetch_list\u001b[0m\u001b[0;34m,\u001b[0m \u001b[0mtarget_list\u001b[0m\u001b[0;34m,\u001b[0m\u001b[0;34m\u001b[0m\u001b[0m\n\u001b[0;32m-> 1407\u001b[0;31m         run_metadata)\n\u001b[0m\u001b[1;32m   1408\u001b[0m \u001b[0;34m\u001b[0m\u001b[0m\n\u001b[1;32m   1409\u001b[0m   \u001b[0;32mdef\u001b[0m \u001b[0m_call_tf_sessionprun\u001b[0m\u001b[0;34m(\u001b[0m\u001b[0mself\u001b[0m\u001b[0;34m,\u001b[0m \u001b[0mhandle\u001b[0m\u001b[0;34m,\u001b[0m \u001b[0mfeed_dict\u001b[0m\u001b[0;34m,\u001b[0m \u001b[0mfetch_list\u001b[0m\u001b[0;34m)\u001b[0m\u001b[0;34m:\u001b[0m\u001b[0;34m\u001b[0m\u001b[0m\n",
      "\u001b[0;31mKeyboardInterrupt\u001b[0m: "
     ]
    }
   ],
   "source": [
    "with tf.Session() as sess:\n",
    "#     Initializing the global variables\n",
    "    sess.run(init_op)\n",
    "#     Writing the summary log of the graph. Open it with tensorboard\n",
    "    summary_writer = tf.summary.FileWriter(\"logs\", graph=tf.get_default_graph())\n",
    "    summary_writer.flush()\n",
    "    summary_writer.close()\n",
    "#     i = number of iterations\n",
    "    i = 0\n",
    "    while(True):\n",
    "        i += 1\n",
    "        [initX, initY, initVx, initVy] = sess.run([new_X, new_Y, new_velX, new_velY], feed_dict={posX: initX, posY: initY, velX: initVx, velY: initVy})\n",
    "#         distance vector between each pair of particles\n",
    "#         Shape = (N, N)\n",
    "        delX = tf.math.add(-initX, tf.transpose(initX))\n",
    "        delY = tf.math.add(-initY, tf.transpose(initY))\n",
    "#         Actual distance between each pair of particles\n",
    "        dist_all_pairs = tf.math.sqrt(tf.math.pow(delX, 2) + tf.math.pow(delY, 2))\n",
    "#         Diagonal will be 0, setting it to INFINITE\n",
    "        dist_all_pairs = tf.matrix_set_diag(dist_all_pairs, tf.fill(dist_all_pairs.shape[0:-1], INF))\n",
    "        min_dist = tf.math.reduce_min(dist_all_pairs)\n",
    "        print \"Iteration: \" + `i` + \" Min dist: \" + `sess.run(min_dist)`\n",
    "        if(sess.run(min_dist) <= threshold):\n",
    "            break\n",
    "    final_position = np.concatenate((initX, initY), axis = 1)\n",
    "    final_velocity = np.concatenate((initVx, initVy), axis = 1)\n",
    "    print \"Final Position: \\n\", final_position\n",
    "    print \"Final Velocity: \\n\", final_velocity\n",
    "    np.save(op_folder + \"/final_position.npy\", final_position)\n",
    "    np.save(op_folder + \"/final_velocity.npy\", final_velocity)"
   ]
  }
 ],
 "metadata": {
  "kernelspec": {
   "display_name": "Python 2",
   "language": "python",
   "name": "python2"
  },
  "language_info": {
   "codemirror_mode": {
    "name": "ipython",
    "version": 2
   },
   "file_extension": ".py",
   "mimetype": "text/x-python",
   "name": "python",
   "nbconvert_exporter": "python",
   "pygments_lexer": "ipython2",
   "version": "2.7.12"
  }
 },
 "nbformat": 4,
 "nbformat_minor": 2
}
