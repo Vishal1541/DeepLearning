{
 "cells": [
  {
   "cell_type": "code",
   "execution_count": 4,
   "metadata": {},
   "outputs": [],
   "source": [
    "import tensorflow as tf\n",
    "from tensorflow.examples.tutorials.mnist import input_data\n",
    "import numpy as np"
   ]
  },
  {
   "cell_type": "code",
   "execution_count": 6,
   "metadata": {},
   "outputs": [
    {
     "name": "stdout",
     "output_type": "stream",
     "text": [
      "Extracting MNIST_data/train-images-idx3-ubyte.gz\n",
      "Extracting MNIST_data/train-labels-idx1-ubyte.gz\n",
      "Extracting MNIST_data/t10k-images-idx3-ubyte.gz\n",
      "Extracting MNIST_data/t10k-labels-idx1-ubyte.gz\n"
     ]
    }
   ],
   "source": [
    "# Taking inputs, initializing the variables, constants\n",
    "\n",
    "mnist_data = input_data.read_data_sets(\"MNIST_data/\", one_hot=True)\n",
    "n_train = mnist_data.train.num_examples # 55,000\n",
    "n_validate = mnist_data.validation.num_examples # 5000\n",
    "n_test = mnist_data.test.num_examples # 10,000\n",
    "\n",
    "n_input = 784   # input layer (28x28 pixels)\n",
    "n_hidden1 = 512 # 1st hidden layer\n",
    "n_hidden2 = 256 # 2nd hidden layer\n",
    "n_hidden3 = 128 # 3rd hidden layer\n",
    "n_output = 10   # output layer (0-9 digits)\n",
    "\n",
    "learning_rate = 1e-3\n",
    "iterations = 1000\n",
    "batch_size = 128"
   ]
  },
  {
   "cell_type": "code",
   "execution_count": 414,
   "metadata": {},
   "outputs": [
    {
     "name": "stdout",
     "output_type": "stream",
     "text": [
      " (?, 10)\n",
      "(128, 10)\n"
     ]
    }
   ],
   "source": [
    "# Generating the tensorflow graph\n",
    "\n",
    "ip_data = tf.placeholder(\"float\", [None, n_input]) # 1 x 784\n",
    "Y = tf.placeholder(\"float\", [None, n_output]) # 1 x 10\n",
    "\n",
    "# Weights, biases, z = b + Sum(wa), a = g(z) , g() = activation fn\n",
    "W, b = [], []\n",
    "\n",
    "W.append(tf.placeholder(\"float\", [n_input, n_hidden1]))\n",
    "W.append(tf.placeholder(\"float\", [n_hidden1, n_hidden2]))\n",
    "W.append(tf.placeholder(\"float\", [n_hidden2, n_hidden3]))\n",
    "W.append(tf.placeholder(\"float\", [n_hidden3, n_output]))\n",
    "\n",
    "b.append(tf.placeholder(\"float\", [n_hidden1]))\n",
    "b.append(tf.placeholder(\"float\", [n_hidden2]))\n",
    "b.append(tf.placeholder(\"float\", [n_hidden3]))\n",
    "b.append(tf.placeholder(\"float\", [n_output]))\n",
    "\n",
    "# # Activation Function used is Sigmoid\n",
    "\n",
    "# # ------------- FEED FORWARD -----------------\n",
    "\n",
    "z, a = [], []\n",
    "\n",
    "z.append(tf.add(tf.matmul(ip_data, W[0]), b[0])) # 1 x 512\n",
    "a.append(tf.nn.sigmoid(z[0]))\n",
    "z.append(tf.add(tf.matmul(a[0], W[1]), b[1])) # 1 x 256\n",
    "a.append(tf.nn.sigmoid(z[1]))\n",
    "z.append(tf.add(tf.matmul(a[1], W[2]), b[2])) # 1 x 128\n",
    "a.append(tf.nn.sigmoid(z[2]))\n",
    "z.append(tf.matmul(a[2], W[3]) + b[3]) # 1 x 10\n",
    "a.append(tf.nn.sigmoid(z[3])) # 1 x 10.... b/w (0 and 1) Activation Func = Sigmoid\n",
    "\n",
    "layers = 4 # No of total layers including the op layer but excluding the ip layer\n",
    "\n",
    "# # -------------- BACK PROPOGATION ------------\n",
    "\n",
    "# # For the op layer\n",
    "a_derivative = tf.multiply(a[layers - 1], tf.add(1.0, -a[layers - 1])) # f`(x) = f(x) [1 - f(x)]\n",
    "Del = tf.multiply(tf.add(a[layers - 1], -Y), a_derivative) # del = (y_cap - y) (y_cap_derivative)\n",
    "\n",
    "W[layers - 1] = W[layers - 1] - learning_rate * Del * tf.transpose(a[layers - 2]) # Updating op layer W\n",
    "b[layers - 1] = b[layers - 1] - learning_rate * Del # Updating op layer biases\n",
    "\n",
    "print b[layers - 1].shape\n",
    "print W[layers - 1].shape\n",
    "#     print Del.shape\n",
    "\n",
    "for j in range(layers - 2, 0, -1): # Back propogating from the last hidden layer\n",
    "    a_derivative = tf.multiply(a[j], tf.add(1.0, -a[j])) # f`(x) = f(x) [1 - f(x)]\n",
    "    Del = a_derivative * (tf.matmul(Del, tf.transpose(W[j + 1]))) # Del_j = a_j` * Sum_k(Del_k * W_jk)\n",
    "    W[j] = W[j] - learning_rate * Del * tf.transpose(a[j - 1]) # Updating hidden layer W\n",
    "    b[j] = b[j] - learning_rate * Del # Updating hidden layer biases\n",
    "\n",
    "# For the ip layer\n",
    "a_derivative = tf.multiply(a[0], tf.add(1.0, -a[0])) # f`(x) = f(x) [1 - f(x)]\n",
    "Del = a_derivative * (tf.matmul(Del, tf.transpose(W[1]))) # Del_j = a_j` * Sum_k(Del_k * W_jk)\n",
    "W[0] = W[0] - learning_rate * Del * tf.transpose(ip_data) # Updating ip layer W\n",
    "b[0] = b[0] - learning_rate * Del # Updating ip layer biases\n",
    "\n",
    "# FINDING ACCURACY\n",
    "\n",
    "correct_pred = tf.equal(tf.argmax(a[layers - 1], 1), tf.argmax(Y, 1))\n",
    "accuracy = tf.reduce_mean(tf.cast(correct_pred, tf.float32))\n"
   ]
  },
  {
   "cell_type": "code",
   "execution_count": 415,
   "metadata": {},
   "outputs": [
    {
     "name": "stdout",
     "output_type": "stream",
     "text": [
      "0"
     ]
    },
    {
     "ename": "InvalidArgumentError",
     "evalue": "You must feed a value for placeholder tensor 'Placeholder_439' with dtype float and shape [512,256]\n\t [[node Placeholder_439 (defined at <ipython-input-414-f07729642be4>:10) ]]\n\nCaused by op u'Placeholder_439', defined at:\n  File \"/usr/lib/python2.7/runpy.py\", line 174, in _run_module_as_main\n    \"__main__\", fname, loader, pkg_name)\n  File \"/usr/lib/python2.7/runpy.py\", line 72, in _run_code\n    exec code in run_globals\n  File \"/home/vishal16040/.local/lib/python2.7/site-packages/ipykernel_launcher.py\", line 16, in <module>\n    app.launch_new_instance()\n  File \"/home/vishal16040/.local/lib/python2.7/site-packages/traitlets/config/application.py\", line 658, in launch_instance\n    app.start()\n  File \"/home/vishal16040/.local/lib/python2.7/site-packages/ipykernel/kernelapp.py\", line 499, in start\n    self.io_loop.start()\n  File \"/home/vishal16040/.local/lib/python2.7/site-packages/tornado/ioloop.py\", line 1073, in start\n    handler_func(fd_obj, events)\n  File \"/home/vishal16040/.local/lib/python2.7/site-packages/tornado/stack_context.py\", line 300, in null_wrapper\n    return fn(*args, **kwargs)\n  File \"/home/vishal16040/.local/lib/python2.7/site-packages/zmq/eventloop/zmqstream.py\", line 456, in _handle_events\n    self._handle_recv()\n  File \"/home/vishal16040/.local/lib/python2.7/site-packages/zmq/eventloop/zmqstream.py\", line 486, in _handle_recv\n    self._run_callback(callback, msg)\n  File \"/home/vishal16040/.local/lib/python2.7/site-packages/zmq/eventloop/zmqstream.py\", line 438, in _run_callback\n    callback(*args, **kwargs)\n  File \"/home/vishal16040/.local/lib/python2.7/site-packages/tornado/stack_context.py\", line 300, in null_wrapper\n    return fn(*args, **kwargs)\n  File \"/home/vishal16040/.local/lib/python2.7/site-packages/ipykernel/kernelbase.py\", line 283, in dispatcher\n    return self.dispatch_shell(stream, msg)\n  File \"/home/vishal16040/.local/lib/python2.7/site-packages/ipykernel/kernelbase.py\", line 233, in dispatch_shell\n    handler(stream, idents, msg)\n  File \"/home/vishal16040/.local/lib/python2.7/site-packages/ipykernel/kernelbase.py\", line 399, in execute_request\n    user_expressions, allow_stdin)\n  File \"/home/vishal16040/.local/lib/python2.7/site-packages/ipykernel/ipkernel.py\", line 208, in do_execute\n    res = shell.run_cell(code, store_history=store_history, silent=silent)\n  File \"/home/vishal16040/.local/lib/python2.7/site-packages/ipykernel/zmqshell.py\", line 537, in run_cell\n    return super(ZMQInteractiveShell, self).run_cell(*args, **kwargs)\n  File \"/home/vishal16040/.local/lib/python2.7/site-packages/IPython/core/interactiveshell.py\", line 2714, in run_cell\n    interactivity=interactivity, compiler=compiler, result=result)\n  File \"/home/vishal16040/.local/lib/python2.7/site-packages/IPython/core/interactiveshell.py\", line 2818, in run_ast_nodes\n    if self.run_code(code, result):\n  File \"/home/vishal16040/.local/lib/python2.7/site-packages/IPython/core/interactiveshell.py\", line 2878, in run_code\n    exec(code_obj, self.user_global_ns, self.user_ns)\n  File \"<ipython-input-414-f07729642be4>\", line 10, in <module>\n    W.append(tf.placeholder(\"float\", [n_hidden1, n_hidden2]))\n  File \"/usr/local/lib/python2.7/dist-packages/tensorflow/python/ops/array_ops.py\", line 2077, in placeholder\n    return gen_array_ops.placeholder(dtype=dtype, shape=shape, name=name)\n  File \"/usr/local/lib/python2.7/dist-packages/tensorflow/python/ops/gen_array_ops.py\", line 5791, in placeholder\n    \"Placeholder\", dtype=dtype, shape=shape, name=name)\n  File \"/usr/local/lib/python2.7/dist-packages/tensorflow/python/framework/op_def_library.py\", line 788, in _apply_op_helper\n    op_def=op_def)\n  File \"/usr/local/lib/python2.7/dist-packages/tensorflow/python/util/deprecation.py\", line 507, in new_func\n    return func(*args, **kwargs)\n  File \"/usr/local/lib/python2.7/dist-packages/tensorflow/python/framework/ops.py\", line 3300, in create_op\n    op_def=op_def)\n  File \"/usr/local/lib/python2.7/dist-packages/tensorflow/python/framework/ops.py\", line 1801, in __init__\n    self._traceback = tf_stack.extract_stack()\n\nInvalidArgumentError (see above for traceback): You must feed a value for placeholder tensor 'Placeholder_439' with dtype float and shape [512,256]\n\t [[node Placeholder_439 (defined at <ipython-input-414-f07729642be4>:10) ]]\n",
     "output_type": "error",
     "traceback": [
      "\u001b[0;31m---------------------------------------------------------------------------\u001b[0m",
      "\u001b[0;31mInvalidArgumentError\u001b[0m                      Traceback (most recent call last)",
      "\u001b[0;32m<ipython-input-415-6d1002ec224f>\u001b[0m in \u001b[0;36m<module>\u001b[0;34m()\u001b[0m\n\u001b[1;32m     40\u001b[0m                                \u001b[0mW\u001b[0m\u001b[0;34m[\u001b[0m\u001b[0;36m1\u001b[0m\u001b[0;34m]\u001b[0m\u001b[0;34m:\u001b[0m \u001b[0mWi\u001b[0m\u001b[0;34m[\u001b[0m\u001b[0;36m1\u001b[0m\u001b[0;34m]\u001b[0m\u001b[0;34m,\u001b[0m \u001b[0mb\u001b[0m\u001b[0;34m[\u001b[0m\u001b[0;36m1\u001b[0m\u001b[0;34m]\u001b[0m\u001b[0;34m:\u001b[0m \u001b[0mbi\u001b[0m\u001b[0;34m[\u001b[0m\u001b[0;36m1\u001b[0m\u001b[0;34m]\u001b[0m\u001b[0;34m,\u001b[0m\u001b[0;34m\u001b[0m\u001b[0m\n\u001b[1;32m     41\u001b[0m                                \u001b[0mW\u001b[0m\u001b[0;34m[\u001b[0m\u001b[0;36m2\u001b[0m\u001b[0;34m]\u001b[0m\u001b[0;34m:\u001b[0m \u001b[0mWi\u001b[0m\u001b[0;34m[\u001b[0m\u001b[0;36m2\u001b[0m\u001b[0;34m]\u001b[0m\u001b[0;34m,\u001b[0m \u001b[0mb\u001b[0m\u001b[0;34m[\u001b[0m\u001b[0;36m2\u001b[0m\u001b[0;34m]\u001b[0m\u001b[0;34m:\u001b[0m \u001b[0mbi\u001b[0m\u001b[0;34m[\u001b[0m\u001b[0;36m2\u001b[0m\u001b[0;34m]\u001b[0m\u001b[0;34m,\u001b[0m\u001b[0;34m\u001b[0m\u001b[0m\n\u001b[0;32m---> 42\u001b[0;31m                                W[3]: Wi[3], b[3]: bi[3]})\n\u001b[0m\u001b[1;32m     43\u001b[0m     \u001b[0;32mfor\u001b[0m \u001b[0mitr\u001b[0m \u001b[0;32min\u001b[0m \u001b[0mrange\u001b[0m\u001b[0;34m(\u001b[0m\u001b[0miterations\u001b[0m\u001b[0;34m)\u001b[0m\u001b[0;34m:\u001b[0m\u001b[0;34m\u001b[0m\u001b[0m\n\u001b[1;32m     44\u001b[0m         \u001b[0;32mprint\u001b[0m \u001b[0;34m\"Itr: \"\u001b[0m \u001b[0;34m+\u001b[0m \u001b[0mstr\u001b[0m\u001b[0;34m(\u001b[0m\u001b[0mitr\u001b[0m\u001b[0;34m)\u001b[0m\u001b[0;34m,\u001b[0m\u001b[0;34m\u001b[0m\u001b[0m\n",
      "\u001b[0;32m/usr/local/lib/python2.7/dist-packages/tensorflow/python/client/session.pyc\u001b[0m in \u001b[0;36mrun\u001b[0;34m(self, fetches, feed_dict, options, run_metadata)\u001b[0m\n\u001b[1;32m    927\u001b[0m     \u001b[0;32mtry\u001b[0m\u001b[0;34m:\u001b[0m\u001b[0;34m\u001b[0m\u001b[0m\n\u001b[1;32m    928\u001b[0m       result = self._run(None, fetches, feed_dict, options_ptr,\n\u001b[0;32m--> 929\u001b[0;31m                          run_metadata_ptr)\n\u001b[0m\u001b[1;32m    930\u001b[0m       \u001b[0;32mif\u001b[0m \u001b[0mrun_metadata\u001b[0m\u001b[0;34m:\u001b[0m\u001b[0;34m\u001b[0m\u001b[0m\n\u001b[1;32m    931\u001b[0m         \u001b[0mproto_data\u001b[0m \u001b[0;34m=\u001b[0m \u001b[0mtf_session\u001b[0m\u001b[0;34m.\u001b[0m\u001b[0mTF_GetBuffer\u001b[0m\u001b[0;34m(\u001b[0m\u001b[0mrun_metadata_ptr\u001b[0m\u001b[0;34m)\u001b[0m\u001b[0;34m\u001b[0m\u001b[0m\n",
      "\u001b[0;32m/usr/local/lib/python2.7/dist-packages/tensorflow/python/client/session.pyc\u001b[0m in \u001b[0;36m_run\u001b[0;34m(self, handle, fetches, feed_dict, options, run_metadata)\u001b[0m\n\u001b[1;32m   1150\u001b[0m     \u001b[0;32mif\u001b[0m \u001b[0mfinal_fetches\u001b[0m \u001b[0;32mor\u001b[0m \u001b[0mfinal_targets\u001b[0m \u001b[0;32mor\u001b[0m \u001b[0;34m(\u001b[0m\u001b[0mhandle\u001b[0m \u001b[0;32mand\u001b[0m \u001b[0mfeed_dict_tensor\u001b[0m\u001b[0;34m)\u001b[0m\u001b[0;34m:\u001b[0m\u001b[0;34m\u001b[0m\u001b[0m\n\u001b[1;32m   1151\u001b[0m       results = self._do_run(handle, final_targets, final_fetches,\n\u001b[0;32m-> 1152\u001b[0;31m                              feed_dict_tensor, options, run_metadata)\n\u001b[0m\u001b[1;32m   1153\u001b[0m     \u001b[0;32melse\u001b[0m\u001b[0;34m:\u001b[0m\u001b[0;34m\u001b[0m\u001b[0m\n\u001b[1;32m   1154\u001b[0m       \u001b[0mresults\u001b[0m \u001b[0;34m=\u001b[0m \u001b[0;34m[\u001b[0m\u001b[0;34m]\u001b[0m\u001b[0;34m\u001b[0m\u001b[0m\n",
      "\u001b[0;32m/usr/local/lib/python2.7/dist-packages/tensorflow/python/client/session.pyc\u001b[0m in \u001b[0;36m_do_run\u001b[0;34m(self, handle, target_list, fetch_list, feed_dict, options, run_metadata)\u001b[0m\n\u001b[1;32m   1326\u001b[0m     \u001b[0;32mif\u001b[0m \u001b[0mhandle\u001b[0m \u001b[0;32mis\u001b[0m \u001b[0mNone\u001b[0m\u001b[0;34m:\u001b[0m\u001b[0;34m\u001b[0m\u001b[0m\n\u001b[1;32m   1327\u001b[0m       return self._do_call(_run_fn, feeds, fetches, targets, options,\n\u001b[0;32m-> 1328\u001b[0;31m                            run_metadata)\n\u001b[0m\u001b[1;32m   1329\u001b[0m     \u001b[0;32melse\u001b[0m\u001b[0;34m:\u001b[0m\u001b[0;34m\u001b[0m\u001b[0m\n\u001b[1;32m   1330\u001b[0m       \u001b[0;32mreturn\u001b[0m \u001b[0mself\u001b[0m\u001b[0;34m.\u001b[0m\u001b[0m_do_call\u001b[0m\u001b[0;34m(\u001b[0m\u001b[0m_prun_fn\u001b[0m\u001b[0;34m,\u001b[0m \u001b[0mhandle\u001b[0m\u001b[0;34m,\u001b[0m \u001b[0mfeeds\u001b[0m\u001b[0;34m,\u001b[0m \u001b[0mfetches\u001b[0m\u001b[0;34m)\u001b[0m\u001b[0;34m\u001b[0m\u001b[0m\n",
      "\u001b[0;32m/usr/local/lib/python2.7/dist-packages/tensorflow/python/client/session.pyc\u001b[0m in \u001b[0;36m_do_call\u001b[0;34m(self, fn, *args)\u001b[0m\n\u001b[1;32m   1346\u001b[0m           \u001b[0;32mpass\u001b[0m\u001b[0;34m\u001b[0m\u001b[0m\n\u001b[1;32m   1347\u001b[0m       \u001b[0mmessage\u001b[0m \u001b[0;34m=\u001b[0m \u001b[0merror_interpolation\u001b[0m\u001b[0;34m.\u001b[0m\u001b[0minterpolate\u001b[0m\u001b[0;34m(\u001b[0m\u001b[0mmessage\u001b[0m\u001b[0;34m,\u001b[0m \u001b[0mself\u001b[0m\u001b[0;34m.\u001b[0m\u001b[0m_graph\u001b[0m\u001b[0;34m)\u001b[0m\u001b[0;34m\u001b[0m\u001b[0m\n\u001b[0;32m-> 1348\u001b[0;31m       \u001b[0;32mraise\u001b[0m \u001b[0mtype\u001b[0m\u001b[0;34m(\u001b[0m\u001b[0me\u001b[0m\u001b[0;34m)\u001b[0m\u001b[0;34m(\u001b[0m\u001b[0mnode_def\u001b[0m\u001b[0;34m,\u001b[0m \u001b[0mop\u001b[0m\u001b[0;34m,\u001b[0m \u001b[0mmessage\u001b[0m\u001b[0;34m)\u001b[0m\u001b[0;34m\u001b[0m\u001b[0m\n\u001b[0m\u001b[1;32m   1349\u001b[0m \u001b[0;34m\u001b[0m\u001b[0m\n\u001b[1;32m   1350\u001b[0m   \u001b[0;32mdef\u001b[0m \u001b[0m_extend_graph\u001b[0m\u001b[0;34m(\u001b[0m\u001b[0mself\u001b[0m\u001b[0;34m)\u001b[0m\u001b[0;34m:\u001b[0m\u001b[0;34m\u001b[0m\u001b[0m\n",
      "\u001b[0;31mInvalidArgumentError\u001b[0m: You must feed a value for placeholder tensor 'Placeholder_439' with dtype float and shape [512,256]\n\t [[node Placeholder_439 (defined at <ipython-input-414-f07729642be4>:10) ]]\n\nCaused by op u'Placeholder_439', defined at:\n  File \"/usr/lib/python2.7/runpy.py\", line 174, in _run_module_as_main\n    \"__main__\", fname, loader, pkg_name)\n  File \"/usr/lib/python2.7/runpy.py\", line 72, in _run_code\n    exec code in run_globals\n  File \"/home/vishal16040/.local/lib/python2.7/site-packages/ipykernel_launcher.py\", line 16, in <module>\n    app.launch_new_instance()\n  File \"/home/vishal16040/.local/lib/python2.7/site-packages/traitlets/config/application.py\", line 658, in launch_instance\n    app.start()\n  File \"/home/vishal16040/.local/lib/python2.7/site-packages/ipykernel/kernelapp.py\", line 499, in start\n    self.io_loop.start()\n  File \"/home/vishal16040/.local/lib/python2.7/site-packages/tornado/ioloop.py\", line 1073, in start\n    handler_func(fd_obj, events)\n  File \"/home/vishal16040/.local/lib/python2.7/site-packages/tornado/stack_context.py\", line 300, in null_wrapper\n    return fn(*args, **kwargs)\n  File \"/home/vishal16040/.local/lib/python2.7/site-packages/zmq/eventloop/zmqstream.py\", line 456, in _handle_events\n    self._handle_recv()\n  File \"/home/vishal16040/.local/lib/python2.7/site-packages/zmq/eventloop/zmqstream.py\", line 486, in _handle_recv\n    self._run_callback(callback, msg)\n  File \"/home/vishal16040/.local/lib/python2.7/site-packages/zmq/eventloop/zmqstream.py\", line 438, in _run_callback\n    callback(*args, **kwargs)\n  File \"/home/vishal16040/.local/lib/python2.7/site-packages/tornado/stack_context.py\", line 300, in null_wrapper\n    return fn(*args, **kwargs)\n  File \"/home/vishal16040/.local/lib/python2.7/site-packages/ipykernel/kernelbase.py\", line 283, in dispatcher\n    return self.dispatch_shell(stream, msg)\n  File \"/home/vishal16040/.local/lib/python2.7/site-packages/ipykernel/kernelbase.py\", line 233, in dispatch_shell\n    handler(stream, idents, msg)\n  File \"/home/vishal16040/.local/lib/python2.7/site-packages/ipykernel/kernelbase.py\", line 399, in execute_request\n    user_expressions, allow_stdin)\n  File \"/home/vishal16040/.local/lib/python2.7/site-packages/ipykernel/ipkernel.py\", line 208, in do_execute\n    res = shell.run_cell(code, store_history=store_history, silent=silent)\n  File \"/home/vishal16040/.local/lib/python2.7/site-packages/ipykernel/zmqshell.py\", line 537, in run_cell\n    return super(ZMQInteractiveShell, self).run_cell(*args, **kwargs)\n  File \"/home/vishal16040/.local/lib/python2.7/site-packages/IPython/core/interactiveshell.py\", line 2714, in run_cell\n    interactivity=interactivity, compiler=compiler, result=result)\n  File \"/home/vishal16040/.local/lib/python2.7/site-packages/IPython/core/interactiveshell.py\", line 2818, in run_ast_nodes\n    if self.run_code(code, result):\n  File \"/home/vishal16040/.local/lib/python2.7/site-packages/IPython/core/interactiveshell.py\", line 2878, in run_code\n    exec(code_obj, self.user_global_ns, self.user_ns)\n  File \"<ipython-input-414-f07729642be4>\", line 10, in <module>\n    W.append(tf.placeholder(\"float\", [n_hidden1, n_hidden2]))\n  File \"/usr/local/lib/python2.7/dist-packages/tensorflow/python/ops/array_ops.py\", line 2077, in placeholder\n    return gen_array_ops.placeholder(dtype=dtype, shape=shape, name=name)\n  File \"/usr/local/lib/python2.7/dist-packages/tensorflow/python/ops/gen_array_ops.py\", line 5791, in placeholder\n    \"Placeholder\", dtype=dtype, shape=shape, name=name)\n  File \"/usr/local/lib/python2.7/dist-packages/tensorflow/python/framework/op_def_library.py\", line 788, in _apply_op_helper\n    op_def=op_def)\n  File \"/usr/local/lib/python2.7/dist-packages/tensorflow/python/util/deprecation.py\", line 507, in new_func\n    return func(*args, **kwargs)\n  File \"/usr/local/lib/python2.7/dist-packages/tensorflow/python/framework/ops.py\", line 3300, in create_op\n    op_def=op_def)\n  File \"/usr/local/lib/python2.7/dist-packages/tensorflow/python/framework/ops.py\", line 1801, in __init__\n    self._traceback = tf_stack.extract_stack()\n\nInvalidArgumentError (see above for traceback): You must feed a value for placeholder tensor 'Placeholder_439' with dtype float and shape [512,256]\n\t [[node Placeholder_439 (defined at <ipython-input-414-f07729642be4>:10) ]]\n"
     ]
    }
   ],
   "source": [
    "init_op = tf.global_variables_initializer()\n",
    "with tf.Session() as sess:\n",
    "    sess.run(init_op)\n",
    "    correct = 0\n",
    "    Wi, bi = [], []\n",
    "#     Wi.append(tf.constant(tf.truncated_normal([n_input, n_hidden1], stddev=0.1)).eval()) # 784 x 512\n",
    "#     Wi.append(tf.constant(tf.truncated_normal([n_hidden1, n_hidden2], stddev=0.1)).eval()) # 512 x 256\n",
    "#     Wi.append(tf.constant(tf.truncated_normal([n_hidden2, n_hidden3], stddev=0.1)).eval()) # 256 x 128\n",
    "#     Wi.append(tf.constant(tf.truncated_normal([n_hidden3, n_output], stddev=0.1)).eval()) # 128 x 10\n",
    "\n",
    "#     bi.append(tf.constant(tf.constant(0.1, shape=[n_hidden1])).eval()) # 512\n",
    "#     bi.append(tf.constant(tf.constant(0.1, shape=[n_hidden2])).eval()) # 256\n",
    "#     bi.append(tf.constant(tf.constant(0.1, shape=[n_hidden3])).eval()) # 128\n",
    "#     bi.append(tf.constant(tf.constant(0.1, shape=[n_output])).eval()) # 10\n",
    "    \n",
    "    Wi.append(np.random.rand(n_input, n_hidden1))\n",
    "    Wi.append(np.random.rand(n_hidden1, n_hidden2))\n",
    "    Wi.append(np.random.rand(n_hidden2, n_hidden3))\n",
    "    Wi.append(np.random.rand(n_hidden3, n_output))\n",
    "    \n",
    "    bi.append(np.random.rand(1, n_hidden1))\n",
    "    bi.append(np.random.rand(1, n_hidden2))\n",
    "    bi.append(np.random.rand(1, n_hidden3))\n",
    "    bi.append(np.random.rand(1, n_output))\n",
    "    \n",
    "    for itr in range(iterations):\n",
    "        print itr,\n",
    "        batch_x, batch_y = mnist_data.train.next_batch(batch_size)\n",
    "    #     sess.run([W[0], b[0]], feed_dict={ip_data: batch_x, Y: batch_y})\n",
    "        for i in range(0, 1):\n",
    "#             sess.run([W[0], b[0]], feed_dict={ip_data: batch_x, Y: batch_y})\n",
    "            [Wi[0], bi[0], Wi[1], bi[1], Wi[2], bi[2], Wi[3], bi[3]] = sess.run([W[0], b[0], W[1], b[1], W[2], b[2], W[3], b[3]],\n",
    "                     feed_dict={ip_data: batch_x, Y: batch_y,\n",
    "                               W[0]: Wi[0], b[0]: bi[0],\n",
    "                               W[1]: Wi[1], b[1]: bi[1],\n",
    "                               W[2]: Wi[2], b[2]: bi[2],\n",
    "                               W[3]: Wi[3], b[3]: bi[3]})\n",
    "        print sess.run(accuracy, feed_dict={ip_data: batch_x, Y: batch_y,\n",
    "                               W[0]: Wi[0], b[0]: bi[0],\n",
    "                               W[1]: Wi[1], b[1]: bi[1],\n",
    "                               W[2]: Wi[2], b[2]: bi[2],\n",
    "                               W[3]: Wi[3], b[3]: bi[3]})\n",
    "    for itr in range(iterations):\n",
    "        print \"Itr: \" + str(itr),\n",
    "        batch_x, batch_y = mnist_data.train.next_batch(batch_size)\n",
    "    #     W, b, accuracy = train_with_feedforward_backpropogation(ip_data, Y, W, b, a, learning_rate, feed_dict={ip_data: batch_x, Y: batch_y})\n",
    "    #     sess.run([W[0], b[0]], feed_dict={ip_data: batch_x, Y: batch_y})\n",
    "#         for i in range(0, 1):\n",
    "#             sess.run([W[0], b[0], W[1], b[1], W[2], b[2], W[3], b[3]], feed_dict={ip_data: batch_x, Y: batch_y})\n",
    "        correct += sess.run(accuracy, feed_dict={ip_data: batch_x, Y: batch_y})\n",
    "        print \"Accuracy: \" + str(correct / (itr + 1))"
   ]
  }
 ],
 "metadata": {
  "kernelspec": {
   "display_name": "Python 3",
   "language": "python",
   "name": "python3"
  },
  "language_info": {
   "codemirror_mode": {
    "name": "ipython",
    "version": 2
   },
   "file_extension": ".py",
   "mimetype": "text/x-python",
   "name": "python",
   "nbconvert_exporter": "python",
   "pygments_lexer": "ipython2",
   "version": "2.7.12"
  }
 },
 "nbformat": 4,
 "nbformat_minor": 2
}
