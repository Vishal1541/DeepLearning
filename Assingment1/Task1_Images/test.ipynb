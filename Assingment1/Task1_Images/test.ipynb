{
 "cells": [
  {
   "cell_type": "code",
   "execution_count": 3,
   "metadata": {},
   "outputs": [
    {
     "data": {
      "text/plain": [
       "['/home/yash/anaconda3/lib/python36.zip',\n",
       " '/home/yash/anaconda3/lib/python3.6',\n",
       " '/home/yash/anaconda3/lib/python3.6/lib-dynload',\n",
       " '',\n",
       " '/home/yash/anaconda3/lib/python3.6/site-packages',\n",
       " '/home/yash/anaconda3/lib/python3.6/site-packages/IPython/extensions',\n",
       " '/home/yash/.ipython']"
      ]
     },
     "execution_count": 3,
     "metadata": {},
     "output_type": "execute_result"
    }
   ],
   "source": [
    "import os\n",
    "os.sys.path"
   ]
  },
  {
   "cell_type": "code",
   "execution_count": null,
   "metadata": {},
   "outputs": [],
   "source": []
  }
 ],
 "metadata": {
  "celltoolbar": "Raw Cell Format",
  "kernelspec": {
   "display_name": "Python 3",
   "language": "python",
   "name": "python3"
  }
 },
 "nbformat": 4,
 "nbformat_minor": 2
}
