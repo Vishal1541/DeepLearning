{
 "cells": [
  {
   "cell_type": "code",
   "execution_count": 21,
   "metadata": {},
   "outputs": [],
   "source": [
    "from PIL import Image, ImageDraw\n",
    "import math\n",
    "import random\n",
    "import os"
   ]
  },
  {
   "cell_type": "code",
   "execution_count": 22,
   "metadata": {},
   "outputs": [],
   "source": [
    "def drawImage(length, width, angle, color, X_pixel, Y_pixel):\n",
    "    im = Image.new('RGB', (X_pixel, Y_pixel), 'black') \n",
    "    draw = ImageDraw.Draw(im)\n",
    "    x_centre, y_centre = X_pixel / 2, Y_pixel / 2\n",
    "\n",
    "    angle *= (math.pi / 180.0)\n",
    "    x1 = x_centre - (length / 2) * math.cos(angle)\n",
    "    y1 = y_centre + (length / 2) * math.sin(angle)\n",
    "    x2 = x_centre + (length / 2) * math.cos(angle)\n",
    "    y2 = y_centre - (length / 2) * math.sin(angle)\n",
    "\n",
    "    x_translation = min(x1, X_pixel - x1)\n",
    "    x_translation = min(x_translation, min(x2, X_pixel - x2))\n",
    "\n",
    "    y_translation = min(y1, Y_pixel - y1)\n",
    "    y_translation = min(y_translation, min(y2, Y_pixel - y2))\n",
    "\n",
    "    x_translation *= random.randint(-100, 101) / 100.0\n",
    "    y_translation *= random.randint(-100, 101) / 100.0\n",
    "\n",
    "    x1 += x_translation\n",
    "    y1 += y_translation\n",
    "    x2 += x_translation\n",
    "    y2 += y_translation\n",
    "\n",
    "    draw.line((x1, y1, x2, y2), fill=color, width=width)\n",
    "    return im"
   ]
  },
  {
   "cell_type": "code",
   "execution_count": 23,
   "metadata": {},
   "outputs": [],
   "source": [
    "for i in range(0, 2):\n",
    "    for j in range(0, 2):\n",
    "        for k in range(0, 12):\n",
    "            for l in range(0, 2):\n",
    "                for m in range (0, 1000):\n",
    "                    length = 7 if i == 0 else 15\n",
    "                    width = 1 if j == 0 else 3\n",
    "                    angle = k * 15\n",
    "                    color = \"blue\" if l == 1 else \"red\"\n",
    "                    img = drawImage(length, width, angle, color, 28, 28)\n",
    "                    img = img.resize((28,28),Image.ANTIALIAS)\n",
    "                    class_name = `i` + \"_\" + `j` + \"_\" + `k` + \"_\" + `l`\n",
    "                    folder = \"./img/\" + class_name\n",
    "                    if not os.path.exists(folder):\n",
    "                        os.makedirs(folder)\n",
    "                    img.save(folder + \"/\" + class_name + \"_\" + `m` + \".jpg\", quality=1000)\n",
    "    #                 img.show()"
   ]
  }
 ],
 "metadata": {
  "celltoolbar": "Raw Cell Format",
  "kernelspec": {
   "display_name": "Python 2",
   "language": "python",
   "name": "python2"
  },
  "language_info": {
   "codemirror_mode": {
    "name": "ipython",
    "version": 2
   },
   "file_extension": ".py",
   "mimetype": "text/x-python",
   "name": "python",
   "nbconvert_exporter": "python",
   "pygments_lexer": "ipython2",
   "version": "2.7.12"
  }
 },
 "nbformat": 4,
 "nbformat_minor": 2
}
