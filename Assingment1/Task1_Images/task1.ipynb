{
 "cells": [
  {
   "cell_type": "code",
   "execution_count": 84,
   "metadata": {},
   "outputs": [],
   "source": [
    "from PIL import Image, ImageDraw\n",
    "import math\n",
    "import random"
   ]
  },
  {
   "cell_type": "code",
   "execution_count": 85,
   "metadata": {},
   "outputs": [],
   "source": [
    "def drawImage(length, width, angle, color, X_pixel, Y_pixel):\n",
    "    im = Image.new('RGB', (X_pixel, Y_pixel), 'black') \n",
    "    draw = ImageDraw.Draw(im)\n",
    "    x_centre, y_centre = X_pixel / 2, Y_pixel / 2\n",
    "\n",
    "    angle *= (math.pi / 180.0)\n",
    "    x1 = x_centre - (length / 2) * math.cos(angle)\n",
    "    y1 = y_centre + (length / 2) * math.sin(angle)\n",
    "    x2 = x_centre + (length / 2) * math.cos(angle)\n",
    "    y2 = y_centre - (length / 2) * math.sin(angle)\n",
    "\n",
    "    x_translation = min(x1, X_pixel - x1)\n",
    "    x_translation = min(x_translation, min(x2, X_pixel - x2))\n",
    "\n",
    "    y_translation = min(y1, Y_pixel - y1)\n",
    "    y_translation = min(y_translation, min(y2, Y_pixel - y2))\n",
    "\n",
    "    x_translation *= random.randint(-100, 101) / 100.0\n",
    "    y_translation *= random.randint(-100, 101) / 100.0\n",
    "\n",
    "    x1 += x_translation\n",
    "    y1 += y_translation\n",
    "    x2 += x_translation\n",
    "    y2 += y_translation\n",
    "\n",
    "    draw.line((x1, y1, x2, y2), fill=color, width=width)\n",
    "    return im"
   ]
  },
  {
   "cell_type": "code",
   "execution_count": 97,
   "metadata": {},
   "outputs": [
    {
     "ename": "IOError",
     "evalue": "encoder jpeg not available",
     "output_type": "error",
     "traceback": [
      "\u001b[0;31m---------------------------------------------------------------------------\u001b[0m",
      "\u001b[0;31mIOError\u001b[0m                                   Traceback (most recent call last)",
      "\u001b[0;32m<ipython-input-97-2355714bbcd0>\u001b[0m in \u001b[0;36m<module>\u001b[0;34m()\u001b[0m\n\u001b[1;32m      9\u001b[0m                     \u001b[0mcolor\u001b[0m \u001b[0;34m=\u001b[0m \u001b[0;34m\"blue\"\u001b[0m \u001b[0;32mif\u001b[0m \u001b[0ml\u001b[0m \u001b[0;34m==\u001b[0m \u001b[0;36m0\u001b[0m \u001b[0;32melse\u001b[0m \u001b[0;34m\"red\"\u001b[0m\u001b[0;34m\u001b[0m\u001b[0m\n\u001b[1;32m     10\u001b[0m                     \u001b[0mimg\u001b[0m \u001b[0;34m=\u001b[0m \u001b[0mdrawImage\u001b[0m\u001b[0;34m(\u001b[0m\u001b[0mlength\u001b[0m\u001b[0;34m,\u001b[0m \u001b[0mwidth\u001b[0m\u001b[0;34m,\u001b[0m \u001b[0mangle\u001b[0m\u001b[0;34m,\u001b[0m \u001b[0mcolor\u001b[0m\u001b[0;34m,\u001b[0m \u001b[0;36m28\u001b[0m\u001b[0;34m,\u001b[0m \u001b[0;36m28\u001b[0m\u001b[0;34m)\u001b[0m\u001b[0;34m\u001b[0m\u001b[0m\n\u001b[0;32m---> 11\u001b[0;31m                     \u001b[0mimg\u001b[0m\u001b[0;34m.\u001b[0m\u001b[0msave\u001b[0m\u001b[0;34m(\u001b[0m\u001b[0;34m\"./img/\"\u001b[0m \u001b[0;34m+\u001b[0m \u001b[0;34m`\u001b[0m\u001b[0mi\u001b[0m\u001b[0;34m`\u001b[0m \u001b[0;34m+\u001b[0m \u001b[0;34m\"_\"\u001b[0m \u001b[0;34m+\u001b[0m \u001b[0;34m`\u001b[0m\u001b[0mj\u001b[0m\u001b[0;34m`\u001b[0m \u001b[0;34m+\u001b[0m \u001b[0;34m\"_\"\u001b[0m \u001b[0;34m+\u001b[0m \u001b[0;34m`\u001b[0m\u001b[0mk\u001b[0m\u001b[0;34m`\u001b[0m \u001b[0;34m+\u001b[0m \u001b[0;34m\"_\"\u001b[0m \u001b[0;34m+\u001b[0m \u001b[0;34m`\u001b[0m\u001b[0ml\u001b[0m\u001b[0;34m`\u001b[0m \u001b[0;34m+\u001b[0m \u001b[0;34m\"_\"\u001b[0m \u001b[0;34m+\u001b[0m \u001b[0;34m`\u001b[0m\u001b[0mm\u001b[0m\u001b[0;34m`\u001b[0m \u001b[0;34m+\u001b[0m \u001b[0;34m\".jpg\"\u001b[0m\u001b[0;34m)\u001b[0m\u001b[0;34m\u001b[0m\u001b[0m\n\u001b[0m",
      "\u001b[0;32m/usr/local/lib/python2.7/dist-packages/PIL/Image.pyc\u001b[0m in \u001b[0;36msave\u001b[0;34m(self, fp, format, **params)\u001b[0m\n",
      "\u001b[0;32m/usr/local/lib/python2.7/dist-packages/PIL/JpegImagePlugin.pyc\u001b[0m in \u001b[0;36m_save\u001b[0;34m(im, fp, filename)\u001b[0m\n",
      "\u001b[0;32m/usr/local/lib/python2.7/dist-packages/PIL/ImageFile.pyc\u001b[0m in \u001b[0;36m_save\u001b[0;34m(im, fp, tile, bufsize)\u001b[0m\n",
      "\u001b[0;32m/usr/local/lib/python2.7/dist-packages/PIL/Image.pyc\u001b[0m in \u001b[0;36m_getencoder\u001b[0;34m(mode, encoder_name, args, extra)\u001b[0m\n",
      "\u001b[0;31mIOError\u001b[0m: encoder jpeg not available"
     ]
    }
   ],
   "source": [
    "for i in range(0, 1):\n",
    "    for j in range(0, 1):\n",
    "        for k in range(0, 12):\n",
    "            for l in range(0, 1):\n",
    "                for m in range (0, 1000):\n",
    "                    length = 7 if i == 0 else 15\n",
    "                    width = 1 if j == 0 else 3\n",
    "                    angle = k * 15\n",
    "                    color = \"blue\" if l == 0 else \"red\"\n",
    "                    img = drawImage(length, width, angle, color, 28, 28)\n",
    "                    img.save(\"./img/\" + `i` + \"_\" + `j` + \"_\" + `k` + \"_\" + `l` + \"_\" + `m` + \".jpg\")"
   ]
  }
 ],
 "metadata": {
  "kernelspec": {
   "display_name": "Python 2",
   "language": "python",
   "name": "python2"
  },
  "language_info": {
   "codemirror_mode": {
    "name": "ipython",
    "version": 2
   },
   "file_extension": ".py",
   "mimetype": "text/x-python",
   "name": "python",
   "nbconvert_exporter": "python",
   "pygments_lexer": "ipython2",
   "version": "2.7.12"
  }
 },
 "nbformat": 4,
 "nbformat_minor": 2
}
