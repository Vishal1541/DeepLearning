{
 "cells": [
  {
   "cell_type": "code",
   "execution_count": 13,
   "metadata": {},
   "outputs": [],
   "source": [
    "from PIL import Image, ImageDraw\n",
    "import math\n",
    "import random\n",
    "import os\n",
    "import numpy as np\n",
    "import cv2"
   ]
  },
  {
   "cell_type": "code",
   "execution_count": 2,
   "metadata": {},
   "outputs": [],
   "source": [
    "def drawImage(length, width, angle, color, X_pixel, Y_pixel):\n",
    "    im = Image.new('RGB', (X_pixel, Y_pixel), 'black') \n",
    "    draw = ImageDraw.Draw(im)\n",
    "    x_centre, y_centre = X_pixel / 2, Y_pixel / 2\n",
    "\n",
    "    angle *= (math.pi / 180.0)\n",
    "    x1 = x_centre - (length / 2) * math.cos(angle)\n",
    "    y1 = y_centre + (length / 2) * math.sin(angle)\n",
    "    x2 = x_centre + (length / 2) * math.cos(angle)\n",
    "    y2 = y_centre - (length / 2) * math.sin(angle)\n",
    "\n",
    "    x_translation = min(x1, X_pixel - x1)\n",
    "    x_translation = min(x_translation, min(x2, X_pixel - x2))\n",
    "\n",
    "    y_translation = min(y1, Y_pixel - y1)\n",
    "    y_translation = min(y_translation, min(y2, Y_pixel - y2))\n",
    "\n",
    "    x_translation *= random.randint(-100, 101) / 100.0\n",
    "    y_translation *= random.randint(-100, 101) / 100.0\n",
    "\n",
    "    x1 += x_translation\n",
    "    y1 += y_translation\n",
    "    x2 += x_translation\n",
    "    y2 += y_translation\n",
    "\n",
    "    draw.line((x1, y1, x2, y2), fill=color, width=width)\n",
    "    return im"
   ]
  },
  {
   "cell_type": "code",
   "execution_count": 5,
   "metadata": {},
   "outputs": [],
   "source": [
    "for i in range(0, 2):\n",
    "    for j in range(0, 2):\n",
    "        for k in range(0, 12):\n",
    "            for l in range(0, 2):\n",
    "                for m in range (0, 1000):\n",
    "                    length = 7 if i == 0 else 15\n",
    "                    width = 1 if j == 0 else 3\n",
    "                    angle = k * 15\n",
    "                    color = \"blue\" if l == 1 else \"red\"\n",
    "                    img = drawImage(length, width, angle, color, 28, 28)\n",
    "                    img = img.resize((28,28),Image.ANTIALIAS)\n",
    "                    class_name = str(i) + \"_\" + str(j) + \"_\" + str(k) + \"_\" + str(l)\n",
    "                    folder = \"./img/\" + class_name\n",
    "                    if not os.path.exists(folder):\n",
    "                        os.makedirs(folder)\n",
    "                    img.save(folder + \"/\" + class_name + \"_\" + str(m) + \".jpg\", quality=1000)\n",
    "    #                 img.show()"
   ]
  },
  {
   "cell_type": "code",
   "execution_count": 65,
   "metadata": {},
   "outputs": [],
   "source": [
    "#Create frames and make video\n",
    "\n",
    "def createFramesAndVideo(inpPath,outputPath,fps):\n",
    "    frame_array = []\n",
    "    for j in range(10):\n",
    "        for i in range(9):\n",
    "            img = cv2.imread(inpPath+'/0_0_0_0_'+str(random.randint(0,1000))+'.jpg')\n",
    "            height, width, layers = img.shape\n",
    "            size = (width,height)\n",
    "            frame_array.append(img)\n",
    "    out = cv2.VideoWriter(outputPath,cv2.VideoWriter_fourcc('M','J','P','G'), fps, size)\n",
    "\n",
    "    \n",
    "    for i in range(len(frame_array)):\n",
    "        # writing to a image array\n",
    "        out.write(frame_array[i])\n",
    "    out.release()"
   ]
  },
  {
   "cell_type": "code",
   "execution_count": 66,
   "metadata": {},
   "outputs": [],
   "source": [
    "# createFramesAndVideo('./img/0_0_0_0','video3.avi',2)"
   ]
  },
  {
   "cell_type": "code",
   "execution_count": 67,
   "metadata": {},
   "outputs": [],
   "source": [
    "def createFrame(inputFile,outputFile):\n",
    "    images = []\n",
    "    for j in range(3):\n",
    "        imgs = []\n",
    "        for i in range(3):\n",
    "#             img = cv2.imread('./img/0_0_0_0/0_0_0_0_'+str(random.randint(0,1000))+'.jpg')\n",
    "            img = cv2.imread(inputFile)\n",
    "            imgs.append(img)\n",
    "        images.append(np.concatenate(imgs,axis=1))\n",
    "    vis = np.concatenate(images, axis=0)\n",
    "    cv2.imwrite(outputFile, vis)\n",
    "    "
   ]
  },
  {
   "cell_type": "code",
   "execution_count": 70,
   "metadata": {},
   "outputs": [],
   "source": [
    "def createVideoFromFrames(fps):\n",
    "#     for i in range(0,10,2):\n",
    "#         createFrame('test.jpg','temporary/'+str(i)+'.jpg')\n",
    "#         createFrame('test2.jpg','temporary/'+str(i+1)+'.jpg')\n",
    "        \n",
    "    frame_array = []    \n",
    "    \n",
    "    for i in range(10):\n",
    "        img = Image.open('temporary/'+str(i)+'.jpg')\n",
    "        height, width, layers = img\n",
    "        size = (width,height)\n",
    "        frame_array.append(img)\n",
    "        \n",
    "    out = cv2.VideoWriter('check.avi',cv2.VideoWriter_fourcc('M','J','P','G'), fps, size)\n",
    "\n",
    "    for i in range(len(frame_array)):\n",
    "        # writing to a image array\n",
    "        out.write(frame_array[i])\n",
    "    out.release()\n",
    "    "
   ]
  },
  {
   "cell_type": "code",
   "execution_count": 59,
   "metadata": {},
   "outputs": [
    {
     "name": "stdout",
     "output_type": "stream",
     "text": [
      "(690, 811, 3)\n"
     ]
    }
   ],
   "source": [
    "\n",
    "\n",
    "temp = cv2.imread('test.jpg')\n",
    "print(temp.shape)\n",
    "createVideoFrame(val1,val1)"
   ]
  },
  {
   "cell_type": "code",
   "execution_count": 71,
   "metadata": {},
   "outputs": [
    {
     "ename": "AttributeError",
     "evalue": "'JpegImageFile' object has no attribute 'shape'",
     "output_type": "error",
     "traceback": [
      "\u001b[0;31m---------------------------------------------------------------------------\u001b[0m",
      "\u001b[0;31mAttributeError\u001b[0m                            Traceback (most recent call last)",
      "\u001b[0;32m<ipython-input-71-0f6d09ff9297>\u001b[0m in \u001b[0;36m<module>\u001b[0;34m\u001b[0m\n\u001b[0;32m----> 1\u001b[0;31m \u001b[0mcreateVideoFromFrames\u001b[0m\u001b[0;34m(\u001b[0m\u001b[0;36m2\u001b[0m\u001b[0;34m)\u001b[0m\u001b[0;34m\u001b[0m\u001b[0;34m\u001b[0m\u001b[0m\n\u001b[0m",
      "\u001b[0;32m<ipython-input-70-82f8e916b974>\u001b[0m in \u001b[0;36mcreateVideoFromFrames\u001b[0;34m(fps)\u001b[0m\n\u001b[1;32m      8\u001b[0m     \u001b[0;32mfor\u001b[0m \u001b[0mi\u001b[0m \u001b[0;32min\u001b[0m \u001b[0mrange\u001b[0m\u001b[0;34m(\u001b[0m\u001b[0;36m10\u001b[0m\u001b[0;34m)\u001b[0m\u001b[0;34m:\u001b[0m\u001b[0;34m\u001b[0m\u001b[0;34m\u001b[0m\u001b[0m\n\u001b[1;32m      9\u001b[0m         \u001b[0mimg\u001b[0m \u001b[0;34m=\u001b[0m \u001b[0mImage\u001b[0m\u001b[0;34m.\u001b[0m\u001b[0mopen\u001b[0m\u001b[0;34m(\u001b[0m\u001b[0;34m'temporary/'\u001b[0m\u001b[0;34m+\u001b[0m\u001b[0mstr\u001b[0m\u001b[0;34m(\u001b[0m\u001b[0mi\u001b[0m\u001b[0;34m)\u001b[0m\u001b[0;34m+\u001b[0m\u001b[0;34m'.jpg'\u001b[0m\u001b[0;34m)\u001b[0m\u001b[0;34m\u001b[0m\u001b[0;34m\u001b[0m\u001b[0m\n\u001b[0;32m---> 10\u001b[0;31m         \u001b[0mheight\u001b[0m\u001b[0;34m,\u001b[0m \u001b[0mwidth\u001b[0m\u001b[0;34m,\u001b[0m \u001b[0mlayers\u001b[0m \u001b[0;34m=\u001b[0m \u001b[0mimg\u001b[0m\u001b[0;34m.\u001b[0m\u001b[0mshape\u001b[0m\u001b[0;34m\u001b[0m\u001b[0;34m\u001b[0m\u001b[0m\n\u001b[0m\u001b[1;32m     11\u001b[0m         \u001b[0msize\u001b[0m \u001b[0;34m=\u001b[0m \u001b[0;34m(\u001b[0m\u001b[0mwidth\u001b[0m\u001b[0;34m,\u001b[0m\u001b[0mheight\u001b[0m\u001b[0;34m)\u001b[0m\u001b[0;34m\u001b[0m\u001b[0;34m\u001b[0m\u001b[0m\n\u001b[1;32m     12\u001b[0m         \u001b[0mframe_array\u001b[0m\u001b[0;34m.\u001b[0m\u001b[0mappend\u001b[0m\u001b[0;34m(\u001b[0m\u001b[0mimg\u001b[0m\u001b[0;34m)\u001b[0m\u001b[0;34m\u001b[0m\u001b[0;34m\u001b[0m\u001b[0m\n",
      "\u001b[0;31mAttributeError\u001b[0m: 'JpegImageFile' object has no attribute 'shape'"
     ]
    }
   ],
   "source": [
    "createVideoFromFrames(2)"
   ]
  },
  {
   "cell_type": "code",
   "execution_count": null,
   "metadata": {},
   "outputs": [],
   "source": []
  }
 ],
 "metadata": {
  "celltoolbar": "Raw Cell Format",
  "kernelspec": {
   "display_name": "Python 3",
   "language": "python",
   "name": "python3"
  },
  "language_info": {
   "codemirror_mode": {
    "name": "ipython",
    "version": 3
   },
   "file_extension": ".py",
   "mimetype": "text/x-python",
   "name": "python",
   "nbconvert_exporter": "python",
   "pygments_lexer": "ipython3",
   "version": "3.7.1"
  }
 },
 "nbformat": 4,
 "nbformat_minor": 2
}
