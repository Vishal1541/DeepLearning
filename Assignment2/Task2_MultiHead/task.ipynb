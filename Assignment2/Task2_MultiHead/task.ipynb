{
 "cells": [
  {
   "cell_type": "code",
   "execution_count": 73,
   "metadata": {},
   "outputs": [],
   "source": [
    "import numpy as np\n",
    "import os\n",
    "import matplotlib.pyplot as plt\n",
    "from keras.utils import to_categorical\n",
    "from keras.models import Sequential, Model\n",
    "from keras.layers import Dense, Conv2D, Flatten, BatchNormalization, MaxPooling2D, Dropout, Input\n",
    "from keras import metrics\n",
    "from keras.models import model_from_json\n",
    "from keras.callbacks import Callback\n",
    "from keras import optimizers\n",
    "from sklearn.metrics import confusion_matrix, f1_score, precision_score, recall_score, accuracy_score"
   ]
  },
  {
   "cell_type": "code",
   "execution_count": 75,
   "metadata": {},
   "outputs": [
    {
     "name": "stdout",
     "output_type": "stream",
     "text": [
      "((57600, 28, 28, 3), (38400, 28, 28, 3), (57600, 12), (38400, 12))\n"
     ]
    }
   ],
   "source": [
    "total_classes = 96\n",
    "\n",
    "line_folder = \"../line_data_4classes\"\n",
    "op_folder = \"./result\"\n",
    "\n",
    "X_train = np.load(\"../line_data\" + \"/x_train.npy\")\n",
    "y_train_length = np.load(line_folder + \"/y_train_length.npy\")\n",
    "y_train_width = np.load(line_folder + \"/y_train_width.npy\")\n",
    "y_train_color = np.load(line_folder + \"/y_train_color.npy\")\n",
    "y_train_angle = np.load(line_folder + \"/y_train_angle.npy\")\n",
    "\n",
    "X_test = np.load(\"../line_data\" + \"/x_test.npy\")\n",
    "y_test_length = np.load(line_folder + \"/y_test_length.npy\")\n",
    "y_test_width = np.load(line_folder + \"/y_test_width.npy\")\n",
    "y_test_color = np.load(line_folder + \"/y_test_color.npy\")\n",
    "y_test_angle = np.load(line_folder + \"/y_test_angle.npy\")\n",
    "\n",
    "# X_train = X_train[:1000]\n",
    "# y_train = y_train[:1000]\n",
    "# X_test = X_test[:1000]\n",
    "# y_test = y_test[:1000]\n",
    "\n",
    "print (X_train.shape, X_test.shape, y_train_angle.shape, y_test_angle.shape)"
   ]
  },
  {
   "cell_type": "code",
   "execution_count": 76,
   "metadata": {},
   "outputs": [
    {
     "name": "stdout",
     "output_type": "stream",
     "text": [
      "((57600, 28, 28, 3), (38400, 28, 28, 3), (57600, 12), (38400, 12))\n"
     ]
    }
   ],
   "source": [
    "X_train = X_train.reshape(57600, 28, 28, 3)\n",
    "X_test = X_test.reshape(38400, 28, 28, 3)\n",
    "print (X_train.shape, X_test.shape, y_train_angle.shape, y_test_angle.shape)"
   ]
  },
  {
   "cell_type": "code",
   "execution_count": 77,
   "metadata": {},
   "outputs": [],
   "source": [
    "def getBranch(inp, out_neuron, out_act, name):\n",
    "    x = Dense(512, activation=\"relu\")(inp)\n",
    "    x = Dropout(0.4)(x)\n",
    "    x = BatchNormalization()(x)\n",
    "    x = Dense(out_neuron, activation=out_act, name=name)(x)\n",
    "    return x"
   ]
  },
  {
   "cell_type": "code",
   "execution_count": 161,
   "metadata": {},
   "outputs": [],
   "source": [
    "def getCM(y_test, y_pred):\n",
    "    cm = [[0, 0], [0, 0]]\n",
    "    for i in range(y_test.size):\n",
    "        if(y_test[i] == y_pred[i]):\n",
    "            if(y_test[i] == True):\n",
    "                cm[1][1] += 1\n",
    "            else:\n",
    "                cm[0][0] += 1\n",
    "        else:\n",
    "            if(y_test[i] == True):\n",
    "                cm[0][1] += 1\n",
    "            else:\n",
    "                cm[1][0] += 1\n",
    "    cm = np.array(cm)\n",
    "    return cm"
   ]
  },
  {
   "cell_type": "code",
   "execution_count": 78,
   "metadata": {},
   "outputs": [],
   "source": [
    "inp = Input(shape=(28,28,3))\n",
    "cnn = Conv2D(32, kernel_size=3, strides=1, activation=\"relu\")(inp)\n",
    "cnn = BatchNormalization()(cnn)\n",
    "cnn = MaxPooling2D(pool_size=2, strides=1)(cnn)\n",
    "cnn = Conv2D(8, kernel_size=1, strides=1, activation=\"relu\", input_shape=(28,28,3))(cnn)\n",
    "cnn = BatchNormalization()(cnn)\n",
    "cnn = Dropout(rate=0.4)(cnn)\n",
    "cnn = Flatten()(cnn)"
   ]
  },
  {
   "cell_type": "code",
   "execution_count": 82,
   "metadata": {},
   "outputs": [
    {
     "data": {
      "text/plain": [
       "[(None, 1), (None, 1), (None, 1), (None, 12)]"
      ]
     },
     "execution_count": 82,
     "metadata": {},
     "output_type": "execute_result"
    }
   ],
   "source": [
    "lengthB = getBranch(cnn, 1, \"sigmoid\", \"lengthB\")\n",
    "widthB = getBranch(cnn, 1, \"sigmoid\", \"widthB\")\n",
    "colorB = getBranch(cnn, 1, \"sigmoid\", \"colorB\")\n",
    "angleB = getBranch(cnn, 12, \"softmax\", \"angleB\")\n",
    "model = Model(inputs=inp, outputs=[lengthB, widthB, colorB, angleB])\n",
    "model.output_shape"
   ]
  },
  {
   "cell_type": "code",
   "execution_count": 83,
   "metadata": {},
   "outputs": [],
   "source": [
    "model.compile(optimizer=\"adam\",\n",
    "              loss={\"lengthB\": \"binary_crossentropy\", \"widthB\": \"binary_crossentropy\",\n",
    "                    \"colorB\": \"binary_crossentropy\", \"angleB\": \"categorical_crossentropy\"},\n",
    "              metrics=['accuracy'])"
   ]
  },
  {
   "cell_type": "code",
   "execution_count": 84,
   "metadata": {},
   "outputs": [
    {
     "name": "stdout",
     "output_type": "stream",
     "text": [
      "Train on 57600 samples, validate on 38400 samples\n",
      "Epoch 1/6\n",
      "57600/57600 [==============================] - 268s 5ms/step - loss: 0.5396 - lengthB_loss: 0.0713 - widthB_loss: 0.0368 - colorB_loss: 0.0160 - angleB_loss: 0.4155 - lengthB_acc: 0.9764 - widthB_acc: 0.9867 - colorB_acc: 0.9939 - angleB_acc: 0.8557 - val_loss: 0.4436 - val_lengthB_loss: 0.0130 - val_widthB_loss: 0.0572 - val_colorB_loss: 0.0110 - val_angleB_loss: 0.3625 - val_lengthB_acc: 0.9978 - val_widthB_acc: 0.9790 - val_colorB_acc: 0.9970 - val_angleB_acc: 0.8596\n",
      "Epoch 2/6\n",
      "57600/57600 [==============================] - 204s 4ms/step - loss: 0.2064 - lengthB_loss: 0.0223 - widthB_loss: 0.0146 - colorB_loss: 0.0059 - angleB_loss: 0.1637 - lengthB_acc: 0.9946 - widthB_acc: 0.9951 - colorB_acc: 0.9980 - angleB_acc: 0.9400 - val_loss: 0.1299 - val_lengthB_loss: 0.0067 - val_widthB_loss: 0.0046 - val_colorB_loss: 5.3968e-04 - val_angleB_loss: 0.1180 - val_lengthB_acc: 0.9994 - val_widthB_acc: 0.9986 - val_colorB_acc: 0.9997 - val_angleB_acc: 0.9591\n",
      "Epoch 3/6\n",
      "57600/57600 [==============================] - 205s 4ms/step - loss: 0.1688 - lengthB_loss: 0.0175 - widthB_loss: 0.0095 - colorB_loss: 0.0038 - angleB_loss: 0.1379 - lengthB_acc: 0.9963 - widthB_acc: 0.9969 - colorB_acc: 0.9987 - angleB_acc: 0.9487 - val_loss: 0.1618 - val_lengthB_loss: 0.0106 - val_widthB_loss: 0.0191 - val_colorB_loss: 7.5715e-04 - val_angleB_loss: 0.1312 - val_lengthB_acc: 0.9985 - val_widthB_acc: 0.9943 - val_colorB_acc: 0.9997 - val_angleB_acc: 0.9499\n",
      "Epoch 4/6\n",
      "57600/57600 [==============================] - 205s 4ms/step - loss: 0.1485 - lengthB_loss: 0.0172 - widthB_loss: 0.0111 - colorB_loss: 0.0039 - angleB_loss: 0.1163 - lengthB_acc: 0.9966 - widthB_acc: 0.9963 - colorB_acc: 0.9987 - angleB_acc: 0.9578 - val_loss: 0.1302 - val_lengthB_loss: 0.0110 - val_widthB_loss: 0.0042 - val_colorB_loss: 4.6786e-04 - val_angleB_loss: 0.1144 - val_lengthB_acc: 0.9986 - val_widthB_acc: 0.9985 - val_colorB_acc: 0.9997 - val_angleB_acc: 0.9534\n",
      "Epoch 5/6\n",
      "57600/57600 [==============================] - 205s 4ms/step - loss: 0.1413 - lengthB_loss: 0.0149 - widthB_loss: 0.0093 - colorB_loss: 0.0034 - angleB_loss: 0.1136 - lengthB_acc: 0.9971 - widthB_acc: 0.9966 - colorB_acc: 0.9989 - angleB_acc: 0.9588 - val_loss: 0.0495 - val_lengthB_loss: 0.0052 - val_widthB_loss: 0.0038 - val_colorB_loss: 0.0076 - val_angleB_loss: 0.0330 - val_lengthB_acc: 0.9995 - val_widthB_acc: 0.9983 - val_colorB_acc: 0.9981 - val_angleB_acc: 0.9914\n",
      "Epoch 6/6\n",
      "57600/57600 [==============================] - 205s 4ms/step - loss: 0.1292 - lengthB_loss: 0.0147 - widthB_loss: 0.0088 - colorB_loss: 0.0032 - angleB_loss: 0.1024 - lengthB_acc: 0.9973 - widthB_acc: 0.9971 - colorB_acc: 0.9987 - angleB_acc: 0.9630 - val_loss: 0.1168 - val_lengthB_loss: 0.0145 - val_widthB_loss: 0.0080 - val_colorB_loss: 6.3910e-04 - val_angleB_loss: 0.0937 - val_lengthB_acc: 0.9971 - val_widthB_acc: 0.9976 - val_colorB_acc: 0.9997 - val_angleB_acc: 0.9658\n"
     ]
    }
   ],
   "source": [
    "history = model.fit(X_train, [y_train_length, y_train_width, y_train_color, y_train_angle],\n",
    "                    validation_data=(X_test, [y_test_length, y_test_width, y_test_color, y_test_angle]),\n",
    "                    epochs=6, batch_size=100)"
   ]
  },
  {
   "cell_type": "code",
   "execution_count": 89,
   "metadata": {},
   "outputs": [
    {
     "name": "stdout",
     "output_type": "stream",
     "text": [
      "['loss', 'val_widthB_acc', 'val_lengthB_acc', 'val_angleB_acc', 'val_colorB_loss', 'val_loss', 'val_colorB_acc', 'val_widthB_loss', 'val_lengthB_loss', 'widthB_acc', 'lengthB_acc', 'val_angleB_loss', 'angleB_loss', 'colorB_acc', 'widthB_loss', 'lengthB_loss', 'angleB_acc', 'colorB_loss']\n"
     ]
    },
    {
     "data": {
      "image/png": "[encoded data removed]",
      "text/plain": [
       "<Figure size 432x288 with 1 Axes>"
      ]
     },
     "metadata": {
      "needs_background": "light"
     },
     "output_type": "display_data"
    },
    {
     "data": {
      "image/png": "[encoded data removed]",
      "text/plain": [
       "<Figure size 432x288 with 1 Axes>"
      ]
     },
     "metadata": {
      "needs_background": "light"
     },
     "output_type": "display_data"
    },
    {
     "data": {
      "image/png": "[encoded data removed]",
      "text/plain": [
       "<Figure size 432x288 with 1 Axes>"
      ]
     },
     "metadata": {
      "needs_background": "light"
     },
     "output_type": "display_data"
    }
   ],
   "source": [
    "if not os.path.exists(op_folder):\n",
    "    os.makedirs(op_folder)\n",
    "    \n",
    "print history.history.keys()\n",
    "\n",
    "# Plot training accuracy values\n",
    "plt.plot(history.history['widthB_acc'])\n",
    "plt.plot(history.history['lengthB_acc'])\n",
    "plt.plot(history.history['angleB_acc'])\n",
    "plt.plot(history.history['colorB_acc'])\n",
    "\n",
    "plt.title('Training Accuracy')\n",
    "plt.ylabel('Accuracy')\n",
    "plt.xlabel('Epoch')\n",
    "plt.legend(['TrainWidth', 'TrainLength', 'TrainAngle', 'TrainColor'], loc='lower right')\n",
    "plt.savefig(op_folder + \"/train_acc.png\", bbox_inches='tight')\n",
    "plt.show()\n",
    "\n",
    "# Plot validating accuracy values\n",
    "plt.plot(history.history['val_widthB_acc'])\n",
    "plt.plot(history.history['val_lengthB_acc'])\n",
    "plt.plot(history.history['val_angleB_acc'])\n",
    "plt.plot(history.history['val_colorB_acc'])\n",
    "\n",
    "plt.title('Testing Accuracy')\n",
    "plt.ylabel('Accuracy')\n",
    "plt.xlabel('Epoch')\n",
    "plt.legend(['TestWidth', 'TestLength', 'TestAngle', 'TestColor'], loc='lower right')\n",
    "plt.savefig(op_folder + \"/test_acc.png\", bbox_inches='tight')\n",
    "plt.show()\n",
    "\n",
    "# # Plot training & validation loss values\n",
    "\n",
    "plt.plot(history.history['loss'])\n",
    "plt.plot(history.history['val_loss'])\n",
    "plt.title('Model loss')\n",
    "plt.ylabel('Loss')\n",
    "plt.xlabel('Epoch')\n",
    "plt.legend(['Train', 'Test'], loc='upper right')\n",
    "plt.savefig(op_folder + \"/loss.png\", bbox_inches='tight')\n",
    "plt.show()"
   ]
  },
  {
   "cell_type": "code",
   "execution_count": 164,
   "metadata": {},
   "outputs": [],
   "source": [
    "# Final evaluation of the model\n",
    "y_pred_length, y_pred_width, y_pred_color, y_pred_angle = model.predict(X_test)\n"
   ]
  },
  {
   "cell_type": "code",
   "execution_count": 178,
   "metadata": {},
   "outputs": [
    {
     "name": "stdout",
     "output_type": "stream",
     "text": [
      "[[3082   28    0    0    0    0    0    0    0    0    0   90]\n",
      " [  15 3175    0    0    0    0    0    0    0    0    0   10]\n",
      " [   0  144 3056    0    0    0    0    0    0    0    0    0]\n",
      " [   0    0  326 2870    4    0    0    0    0    0    0    0]\n",
      " [   0    0    8    0 3134   57    0    0    1    0    0    0]\n",
      " [   0    3    0    0    0 3175   19    3    0    0    0    0]\n",
      " [   0    0    0    0    0   24 3127   38    0    0    0   11]\n",
      " [   0    0    0    0    0    0    0 3191    0    0    0    9]\n",
      " [   0    0    0    0    0    0    0   59 3129    1   10    1]\n",
      " [   0    0    0    0    0    0    0    0    6 2909  285    0]\n",
      " [   0    0    0    0    0    0    0    0    0    0 3040  160]\n",
      " [   0    0    0    0    0    0    0    0    0    0    0 3200]]\n",
      "Accuracy: Len, Wid, Color, Angle\n",
      "1.0 1.0 1.0 0.9658333333333333\n",
      "1.0 1.0 1.0 0.9659088076281012\n"
     ]
    }
   ],
   "source": [
    "y_pred_length = y_pred_length > 0.5\n",
    "y_test_length = y_test_length > 0.5\n",
    "\n",
    "y_pred_width = y_pred_width > 0.5\n",
    "y_test_width = y_test_width > 0.5\n",
    "\n",
    "y_pred_color = y_pred_color > 0.5\n",
    "y_test_color = y_test_color > 0.5\n",
    "\n",
    "y_test_length = y_test_length.reshape(y_pred_length.shape)\n",
    "y_test_width = y_test_length.reshape(y_pred_width.shape)\n",
    "y_test_color = y_test_length.reshape(y_pred_color.shape)\n",
    "\n",
    "cm_length = getCM(y_test_length, y_pred_length)\n",
    "cm_width = getCM(y_test_width, y_pred_width)\n",
    "cm_color = getCM(y_test_color, y_pred_color)\n",
    "cm_angle = confusion_matrix(y_test_angle.argmax(axis=1), y_pred_angle.argmax(axis=1))\n",
    "# print cm_length\n",
    "# print cm_width\n",
    "# print cm_color\n",
    "print cm_angle\n",
    "\n",
    "# print y_pred_length.argmax(axis=1), y_test_length\n",
    "# fscore = f1_score(y_test.argmax(axis=1), y_pred.argmax(axis=1), average='macro')\n",
    "# precision = precision_score(y_test.argmax(axis=1), y_pred.argmax(axis=1), average='macro')\n",
    "# recall = recall_score(y_test.argmax(axis=1), y_pred.argmax(axis=1), average='macro')\n",
    "acc_len = accuracy_score(y_test_length.argmax(axis=1), y_pred_length.argmax(axis=1))\n",
    "acc_wid = accuracy_score(y_test_width.argmax(axis=1), y_pred_width.argmax(axis=1))\n",
    "acc_color = accuracy_score(y_test_color.argmax(axis=1), y_pred_color.argmax(axis=1))\n",
    "acc_angle = accuracy_score(y_test_angle.argmax(axis=1), y_pred_angle.argmax(axis=1))\n",
    "\n",
    "fs_len = f1_score(y_test_length.argmax(axis=1), y_pred_length.argmax(axis=1), average='macro')\n",
    "fs_wid = f1_score(y_test_width.argmax(axis=1), y_pred_width.argmax(axis=1), average='macro')\n",
    "fs_color = f1_score(y_test_color.argmax(axis=1), y_pred_color.argmax(axis=1), average='macro')\n",
    "fs_angle = f1_score(y_test_angle.argmax(axis=1), y_pred_angle.argmax(axis=1), average='macro')\n",
    "\n",
    "print \"Accuracy: Len, Wid, Color, Angle\"\n",
    "print acc_len, acc_wid, acc_color, acc_angle\n",
    "print fs_len, fs_wid, fs_color, fs_angle\n",
    "\n",
    "np.savetxt(op_folder + \"/cm_angle.txt\", cm_angle, fmt=\"%d\")\n",
    "with open(op_folder + \"/scores.txt\", 'w') as the_file:\n",
    "    the_file.write(\"Accuracy:\\nLen \" + str(acc_len) + \n",
    "                  \"\\nWid \" + str(acc_wid) + \n",
    "                  \"\\nColor \" + str(acc_color) +\n",
    "                  \"\\nAngle \" + str(acc_angle) + \n",
    "                  \"\\nFScore:\\nLen \" + str(fs_len) + \n",
    "                  \"\\nWid: \" + str(fs_wid) + \n",
    "                  \"\\nColor: \" + str(fs_color) +\n",
    "                  \"\\nAngle: \" + str(fs_angle))"
   ]
  }
 ],
 "metadata": {
  "kernelspec": {
   "display_name": "Python 3",
   "language": "python",
   "name": "python3"
  },
  "language_info": {
   "codemirror_mode": {
    "name": "ipython",
    "version": 2
   },
   "file_extension": ".py",
   "mimetype": "text/x-python",
   "name": "python",
   "nbconvert_exporter": "python",
   "pygments_lexer": "ipython2",
   "version": "2.7.12"
  }
 },
 "nbformat": 4,
 "nbformat_minor": 2
}
