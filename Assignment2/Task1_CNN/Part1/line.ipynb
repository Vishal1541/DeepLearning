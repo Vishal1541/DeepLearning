{
 "cells": [
  {
   "cell_type": "code",
   "execution_count": 1,
   "metadata": {},
   "outputs": [
    {
     "name": "stderr",
     "output_type": "stream",
     "text": [
      "Using TensorFlow backend.\n"
     ]
    }
   ],
   "source": [
    "import numpy as np\n",
    "import os\n",
    "import random\n",
    "import cv2\n",
    "from keras.utils import to_categorical\n",
    "from keras.models import Sequential\n",
    "from keras.layers import Dense, Conv2D, Flatten, BatchNormalization, MaxPooling2D"
   ]
  },
  {
   "cell_type": "code",
   "execution_count": 60,
   "metadata": {},
   "outputs": [],
   "source": [
    "total_classes = 96 # 96 = 2 * 12 * 2 * 2\n",
    "img_folder = \"../../../Assingment1/Task1_Images/img\"\n",
    "img_in_each_class = 1000\n",
    "training_samples = (img_in_each_class * 60) / 100\n",
    "TOTAL_TESTING_SAMPLES = (img_in_each_class * 40) / 100\n",
    "MAX_PIXEL_VALUE = 256.0\n",
    "batch_size = 24"
   ]
  },
  {
   "cell_type": "code",
   "execution_count": 61,
   "metadata": {},
   "outputs": [],
   "source": [
    "# Get class label, label => [0, total_classes - 1] 0 indexed\n",
    "def getClassLabel(notation):\n",
    "    l, m, n, k = (int(x) for x in notation.split(\"_\"))\n",
    "    label = l * (2 * 12 * 2) + m * (12 * 2) + n * (2) + k\n",
    "    return int(label)"
   ]
  },
  {
   "cell_type": "code",
   "execution_count": 62,
   "metadata": {},
   "outputs": [],
   "source": [
    "# Reading the input classes\n",
    "def getInputClasses():\n",
    "    classes_folders = os.listdir(img_folder)\n",
    "    arr = []\n",
    "    for c in classes_folders:\n",
    "        label = getClassLabel(c)\n",
    "        arr.append([label, c])\n",
    "    arr = np.array(arr)\n",
    "    print arr\n",
    "    return arr"
   ]
  },
  {
   "cell_type": "code",
   "execution_count": 63,
   "metadata": {},
   "outputs": [],
   "source": [
    "def getDataUtil(lower, upper):\n",
    "    img_arr, y_arr = [], []\n",
    "    for i in range(total_classes):\n",
    "        label, class_folder = int(input_classes[i][0]), input_classes[i][1]\n",
    "        for j in range(lower, upper):\n",
    "            img = cv2.imread(img_folder + \"/\" + class_folder + \"/\" + class_folder + \"_\" + `j` + \".jpg\")\n",
    "            y_arr.append([0] * total_classes)\n",
    "            y_arr[i * (upper - lower) + j - lower][label] = 1\n",
    "            img_arr.append(img)\n",
    "    img_arr = np.array(img_arr)\n",
    "    y_arr = np.array(y_arr)\n",
    "    print img_arr.shape, y_arr.shape\n",
    "    return img_arr, y_arr"
   ]
  },
  {
   "cell_type": "code",
   "execution_count": 66,
   "metadata": {},
   "outputs": [],
   "source": [
    "def getTrainingData(training_samples):\n",
    "    training_samples = 200\n",
    "    return getDataUtil(0, training_samples)"
   ]
  },
  {
   "cell_type": "code",
   "execution_count": 67,
   "metadata": {},
   "outputs": [],
   "source": [
    "def getTestingData(training_samples):\n",
    "    training_samples = 950\n",
    "    return getDataUtil(training_samples, img_in_each_class)"
   ]
  },
  {
   "cell_type": "code",
   "execution_count": 68,
   "metadata": {},
   "outputs": [
    {
     "name": "stdout",
     "output_type": "stream",
     "text": [
      "[['16' '0_0_8_0']\n",
      " ['37' '0_1_6_1']\n",
      " ['58' '1_0_5_0']\n",
      " ['0' '0_0_0_0']\n",
      " ['1' '0_0_0_1']\n",
      " ['20' '0_0_10_0']\n",
      " ['21' '0_0_10_1']\n",
      " ['22' '0_0_11_0']\n",
      " ['23' '0_0_11_1']\n",
      " ['2' '0_0_1_0']\n",
      " ['3' '0_0_1_1']\n",
      " ['4' '0_0_2_0']\n",
      " ['5' '0_0_2_1']\n",
      " ['6' '0_0_3_0']\n",
      " ['7' '0_0_3_1']\n",
      " ['8' '0_0_4_0']\n",
      " ['9' '0_0_4_1']\n",
      " ['10' '0_0_5_0']\n",
      " ['11' '0_0_5_1']\n",
      " ['12' '0_0_6_0']\n",
      " ['13' '0_0_6_1']\n",
      " ['14' '0_0_7_0']\n",
      " ['15' '0_0_7_1']\n",
      " ['17' '0_0_8_1']\n",
      " ['18' '0_0_9_0']\n",
      " ['19' '0_0_9_1']\n",
      " ['24' '0_1_0_0']\n",
      " ['25' '0_1_0_1']\n",
      " ['44' '0_1_10_0']\n",
      " ['45' '0_1_10_1']\n",
      " ['46' '0_1_11_0']\n",
      " ['47' '0_1_11_1']\n",
      " ['26' '0_1_1_0']\n",
      " ['27' '0_1_1_1']\n",
      " ['28' '0_1_2_0']\n",
      " ['29' '0_1_2_1']\n",
      " ['30' '0_1_3_0']\n",
      " ['31' '0_1_3_1']\n",
      " ['32' '0_1_4_0']\n",
      " ['33' '0_1_4_1']\n",
      " ['34' '0_1_5_0']\n",
      " ['35' '0_1_5_1']\n",
      " ['36' '0_1_6_0']\n",
      " ['38' '0_1_7_0']\n",
      " ['39' '0_1_7_1']\n",
      " ['40' '0_1_8_0']\n",
      " ['41' '0_1_8_1']\n",
      " ['42' '0_1_9_0']\n",
      " ['43' '0_1_9_1']\n",
      " ['48' '1_0_0_0']\n",
      " ['49' '1_0_0_1']\n",
      " ['68' '1_0_10_0']\n",
      " ['69' '1_0_10_1']\n",
      " ['70' '1_0_11_0']\n",
      " ['71' '1_0_11_1']\n",
      " ['50' '1_0_1_0']\n",
      " ['51' '1_0_1_1']\n",
      " ['52' '1_0_2_0']\n",
      " ['53' '1_0_2_1']\n",
      " ['54' '1_0_3_0']\n",
      " ['55' '1_0_3_1']\n",
      " ['56' '1_0_4_0']\n",
      " ['57' '1_0_4_1']\n",
      " ['59' '1_0_5_1']\n",
      " ['60' '1_0_6_0']\n",
      " ['61' '1_0_6_1']\n",
      " ['62' '1_0_7_0']\n",
      " ['63' '1_0_7_1']\n",
      " ['64' '1_0_8_0']\n",
      " ['65' '1_0_8_1']\n",
      " ['66' '1_0_9_0']\n",
      " ['67' '1_0_9_1']\n",
      " ['72' '1_1_0_0']\n",
      " ['73' '1_1_0_1']\n",
      " ['92' '1_1_10_0']\n",
      " ['93' '1_1_10_1']\n",
      " ['94' '1_1_11_0']\n",
      " ['95' '1_1_11_1']\n",
      " ['74' '1_1_1_0']\n",
      " ['75' '1_1_1_1']\n",
      " ['76' '1_1_2_0']\n",
      " ['77' '1_1_2_1']\n",
      " ['78' '1_1_3_0']\n",
      " ['79' '1_1_3_1']\n",
      " ['80' '1_1_4_0']\n",
      " ['81' '1_1_4_1']\n",
      " ['82' '1_1_5_0']\n",
      " ['83' '1_1_5_1']\n",
      " ['84' '1_1_6_0']\n",
      " ['85' '1_1_6_1']\n",
      " ['86' '1_1_7_0']\n",
      " ['87' '1_1_7_1']\n",
      " ['88' '1_1_8_0']\n",
      " ['89' '1_1_8_1']\n",
      " ['90' '1_1_9_0']\n",
      " ['91' '1_1_9_1']]\n",
      "(19200, 28, 28, 3) (19200, 96)\n",
      "(4800, 28, 28, 3) (4800, 96)\n"
     ]
    }
   ],
   "source": [
    "input_classes = getInputClasses()\n",
    "X_train, y_train = getTrainingData(training_samples)\n",
    "X_test, y_test = getTestingData(training_samples)"
   ]
  },
  {
   "cell_type": "code",
   "execution_count": 69,
   "metadata": {},
   "outputs": [
    {
     "data": {
      "text/plain": [
       "(19200, 96)"
      ]
     },
     "execution_count": 69,
     "metadata": {},
     "output_type": "execute_result"
    }
   ],
   "source": [
    "X_train = X_train.reshape(19200, 28, 28, 3)\n",
    "X_test = X_test.reshape(4800, 28, 28, 3)\n",
    "X_train.shape\n",
    "y_train.shape"
   ]
  },
  {
   "cell_type": "code",
   "execution_count": 70,
   "metadata": {},
   "outputs": [
    {
     "data": {
      "text/plain": [
       "(None, 96)"
      ]
     },
     "execution_count": 70,
     "metadata": {},
     "output_type": "execute_result"
    }
   ],
   "source": [
    "model = Sequential()\n",
    "model.add(Conv2D(32, kernel_size=7, strides=1, activation=\"relu\", input_shape=(28,28,3)))\n",
    "model.add(BatchNormalization())\n",
    "model.add(MaxPooling2D(pool_size=2, strides=2))\n",
    "model.add(Flatten())\n",
    "model.add(Dense(1024, activation=\"relu\"))\n",
    "model.add(BatchNormalization())\n",
    "model.add(Dense(total_classes, activation=\"softmax\"))\n",
    "model.compile(optimizer=\"adam\", loss=\"categorical_crossentropy\", metrics=[\"accuracy\"])\n",
    "model.output_shape\n"
   ]
  },
  {
   "cell_type": "code",
   "execution_count": 71,
   "metadata": {},
   "outputs": [
    {
     "name": "stdout",
     "output_type": "stream",
     "text": [
      "Train on 19200 samples, validate on 4800 samples\n",
      "Epoch 1/1\n",
      "19200/19200 [==============================] - 67s 3ms/step - loss: 2.4523 - acc: 0.3721 - val_loss: 0.9856 - val_acc: 0.6725\n"
     ]
    },
    {
     "data": {
      "text/plain": [
       "<keras.callbacks.History at 0x7f1b54ed7990>"
      ]
     },
     "execution_count": 71,
     "metadata": {},
     "output_type": "execute_result"
    }
   ],
   "source": [
    "model.fit(X_train, y_train, validation_data=(X_test, y_test), epochs=1, batch_size=batch_size)"
   ]
  }
 ],
 "metadata": {
  "kernelspec": {
   "display_name": "Python 3",
   "language": "python",
   "name": "python3"
  },
  "language_info": {
   "codemirror_mode": {
    "name": "ipython",
    "version": 2
   },
   "file_extension": ".py",
   "mimetype": "text/x-python",
   "name": "python",
   "nbconvert_exporter": "python",
   "pygments_lexer": "ipython2",
   "version": "2.7.12"
  }
 },
 "nbformat": 4,
 "nbformat_minor": 2
}
